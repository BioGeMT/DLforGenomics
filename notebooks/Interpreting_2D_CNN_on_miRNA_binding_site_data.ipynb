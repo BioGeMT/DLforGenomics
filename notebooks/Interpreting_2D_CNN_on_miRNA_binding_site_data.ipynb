{
  "nbformat": 4,
  "nbformat_minor": 0,
  "metadata": {
    "colab": {
      "provenance": [],
      "toc_visible": true,
      "gpuType": "T4",
      "authorship_tag": "ABX9TyNIVURzCHqRMdEU26tonCM9",
      "include_colab_link": true
    },
    "kernelspec": {
      "name": "python3",
      "display_name": "Python 3"
    },
    "language_info": {
      "name": "python"
    },
    "accelerator": "GPU"
  },
  "cells": [
    {
      "cell_type": "markdown",
      "metadata": {
        "id": "view-in-github",
        "colab_type": "text"
      },
      "source": [
        "<a href=\"https://colab.research.google.com/github/BioGeMT/DLforGenomics/blob/main/notebooks/Interpreting_2D_CNN_on_miRNA_binding_site_data.ipynb\" target=\"_parent\"><img src=\"https://colab.research.google.com/assets/colab-badge.svg\" alt=\"Open In Colab\"/></a>"
      ]
    },
    {
      "cell_type": "markdown",
      "source": [
        "# 1. miRNA target prediction: from prediction to interpretation\n",
        "\n",
        "In this notebook we will look at a real world example from the field of miRNA target prediction. First, we will briefly describe the biological process of miRNA targating. Then, we will use state-of-the-art deep neural network to predict positive miRNA targets. And finaly, we will interpret this model to extract learned biological principles."
      ],
      "metadata": {
        "id": "P9JGSQqKmPcJ"
      }
    },
    {
      "cell_type": "markdown",
      "source": [
        "## 1.1. miRNA targeting\n",
        "\n",
        "Inside our cells, we have a set of instructions called DNA, which contains the genetic code for making proteins. Proteins are crucial for various cellular functions, and they are produced based on the information stored in the DNA.\n",
        "\n",
        "Now, miRNAs are tiny molecules in the cell that play an important role in regulating how genes are used. Think of miRNAs as molecular switches that can turn genes on or off. They don't code for proteins themselves; instead, they influence the production of proteins from other genes.\n",
        "\n",
        "The problem with miRNA target prediction is figuring out which genes or specific pieces of genetic code are controlled by a particular miRNA. It's like trying to identify which light switches in a room control which lights.  Understanding miRNA target prediction is essential because it helps us grasp how cells fine-tune their functions and respond to different conditions, which is crucial for understanding diseases and developing potential treatments.\n",
        "\n",
        "![](https://www.science.org/cms/10.1126/science.aav1741/asset/3253df46-f059-4297-983c-3cd6e1f0c6cb/assets/graphic/366_aav1741_fa.jpeg)\n",
        "\n",
        "What we know is that both miRNA and their targets are RNA sequences composed from 4 letters (nucleotides) - adenine (A), thymine (T), guanine (G) and cytosine (C) and their interactions are driven by the Watson-Crick pairing - A pairs with T and C pairs with G.\n",
        "\n",
        "![](https://microbenotes.com/wp-content/uploads/2019/04/Watson-and-Crick-DNA-Model.jpeg)\n",
        "\n",
        "From the biological experiments we know that these pairs between miRNA and its target are important for the interaction. However, there is still no clear model describing which exact pairings need to present for a interaction to be active."
      ],
      "metadata": {
        "id": "h9yN-8bqkGoO"
      }
    },
    {
      "cell_type": "markdown",
      "source": [
        "## 1.2. Computational miRNA target prediction\n",
        "\n",
        "\n",
        "\n",
        "For more in depth description you can look at this [article](https://www.mdpi.com/2079-7737/11/12/1798)."
      ],
      "metadata": {
        "id": "-5K6W8kfmn80"
      }
    },
    {
      "cell_type": "markdown",
      "source": [
        "# 2. Setup"
      ],
      "metadata": {
        "id": "2t4DWw13m_0I"
      }
    },
    {
      "cell_type": "markdown",
      "source": [
        "## 2.1. Dependencies\n",
        "\n",
        "There are several specific dependencies we will use that are not already present in Google Colab, expecialy [SHAP](https://github.com/shap/shap) and [DeepExperiment](https://github.com/katarinagresova/DeepExperiment).\n",
        "\n",
        "**SHAP (SHapley Additive exPlanations)** is a game theoretic approach to explain the output of any machine learning model. It connects optimal credit allocation with local explanations using the classic Shapley values from game theory and their related extensions\n",
        "\n",
        "**DeepExperiemnt** is a framework for interpreting and visualizing decisions of neural networks trained on a two-dimensional representation of interactions between miRNA and target site (or any other pair of genomic sequences)."
      ],
      "metadata": {
        "id": "7m0wExwhnD-X"
      }
    },
    {
      "cell_type": "code",
      "execution_count": 1,
      "metadata": {
        "colab": {
          "base_uri": "https://localhost:8080/"
        },
        "id": "OO9gXSOSjagr",
        "outputId": "457808fa-7212-40d2-a82b-93270889c7f7"
      },
      "outputs": [
        {
          "output_type": "stream",
          "name": "stdout",
          "text": [
            "\u001b[2K     \u001b[90m━━━━━━━━━━━━━━━━━━━━━━━━━━━━━━━━━━━━━━━━\u001b[0m \u001b[32m611.8/611.8 kB\u001b[0m \u001b[31m6.2 MB/s\u001b[0m eta \u001b[36m0:00:00\u001b[0m\n",
            "\u001b[2K     \u001b[90m━━━━━━━━━━━━━━━━━━━━━━━━━━━━━━━━━━━━━━━━\u001b[0m \u001b[32m540.5/540.5 kB\u001b[0m \u001b[31m9.4 MB/s\u001b[0m eta \u001b[36m0:00:00\u001b[0m\n",
            "\u001b[?25h  Preparing metadata (setup.py) ... \u001b[?25l\u001b[?25hdone\n",
            "  Building wheel for deepexperiment (setup.py) ... \u001b[?25l\u001b[?25hdone\n"
          ]
        }
      ],
      "source": [
        "!pip install tensorflow_addons gdown shap -q\n",
        "!pip install git+https://github.com/katarinagresova/DeepExperiment -q"
      ]
    },
    {
      "cell_type": "markdown",
      "source": [
        "## 2.2. Imports"
      ],
      "metadata": {
        "id": "c_XkGi5Zo4sE"
      }
    },
    {
      "cell_type": "code",
      "source": [
        "import numpy as np\n",
        "import pandas as pd\n",
        "import tensorflow as tf\n",
        "from tensorflow import keras\n",
        "from tensorflow.keras import layers\n",
        "from tensorflow.keras.utils import register_keras_serializable\n",
        "import tensorflow_addons as tfa\n",
        "import cv2\n",
        "from IPython.display import Image, display\n",
        "import matplotlib.pyplot as plt\n",
        "import matplotlib.cm as cm\n",
        "from textwrap import wrap\n",
        "import random\n",
        "import shap\n",
        "from shap.plots.colors import red_transparent_blue\n",
        "\n",
        "from sklearn.metrics import precision_recall_curve\n",
        "from sklearn import metrics\n",
        "\n",
        "from deepexperiment.alignment import Attrament\n",
        "from deepexperiment.visualization import plot_alignment, plot_miRNA_importance, plotbar_miRNA_importance\n",
        "from deepexperiment.utils import one_hot_encoding, one_hot_encoding_batch\n",
        "from deepexperiment.interpret import DeepShap"
      ],
      "metadata": {
        "colab": {
          "base_uri": "https://localhost:8080/"
        },
        "id": "FKkffrg8o6_i",
        "outputId": "ab301c17-0cfe-4f40-dfbf-e9603a219fb6"
      },
      "execution_count": 2,
      "outputs": [
        {
          "output_type": "stream",
          "name": "stderr",
          "text": [
            "/usr/local/lib/python3.10/dist-packages/tensorflow_addons/utils/tfa_eol_msg.py:23: UserWarning: \n",
            "\n",
            "TensorFlow Addons (TFA) has ended development and introduction of new features.\n",
            "TFA has entered a minimal maintenance and release mode until a planned end of life in May 2024.\n",
            "Please modify downstream libraries to take dependencies from other repositories in our TensorFlow community (e.g. Keras, Keras-CV, and Keras-NLP). \n",
            "\n",
            "For more information see: https://github.com/tensorflow/addons/issues/2807 \n",
            "\n",
            "  warnings.warn(\n"
          ]
        }
      ]
    },
    {
      "cell_type": "markdown",
      "source": [
        "## 2.3. Model\n",
        "\n",
        "We will work with the state-of-the-art model for miRNA target prediction called **miRBind** ([Klimentova et al. 2022](https://doi.org/10.3390/genes13122323))."
      ],
      "metadata": {
        "id": "TQIwz_WopJJ9"
      }
    },
    {
      "cell_type": "code",
      "source": [
        "!wget https://github.com/ML-Bioinfo-CEITEC/miRBind/raw/main/Models/miRBind.h5"
      ],
      "metadata": {
        "colab": {
          "base_uri": "https://localhost:8080/"
        },
        "id": "1eQNJuvnpM-K",
        "outputId": "f1788508-f177-4022-cf8c-37f59a8ed606"
      },
      "execution_count": 3,
      "outputs": [
        {
          "output_type": "stream",
          "name": "stdout",
          "text": [
            "--2024-06-04 18:13:02--  https://github.com/ML-Bioinfo-CEITEC/miRBind/raw/main/Models/miRBind.h5\n",
            "Resolving github.com (github.com)... 140.82.116.4\n",
            "Connecting to github.com (github.com)|140.82.116.4|:443... connected.\n",
            "HTTP request sent, awaiting response... 302 Found\n",
            "Location: https://raw.githubusercontent.com/ML-Bioinfo-CEITEC/miRBind/main/Models/miRBind.h5 [following]\n",
            "--2024-06-04 18:13:03--  https://raw.githubusercontent.com/ML-Bioinfo-CEITEC/miRBind/main/Models/miRBind.h5\n",
            "Resolving raw.githubusercontent.com (raw.githubusercontent.com)... 185.199.108.133, 185.199.110.133, 185.199.111.133, ...\n",
            "Connecting to raw.githubusercontent.com (raw.githubusercontent.com)|185.199.108.133|:443... connected.\n",
            "HTTP request sent, awaiting response... 200 OK\n",
            "Length: 5395488 (5.1M) [application/octet-stream]\n",
            "Saving to: ‘miRBind.h5’\n",
            "\n",
            "miRBind.h5          100%[===================>]   5.15M  --.-KB/s    in 0.06s   \n",
            "\n",
            "2024-06-04 18:13:03 (93.1 MB/s) - ‘miRBind.h5’ saved [5395488/5395488]\n",
            "\n"
          ]
        }
      ]
    },
    {
      "cell_type": "markdown",
      "source": [
        "In `TensorFlow`, you can load models exported in `.h5` format using `keras.models.load_model(path_to_the_model)` and use them right away."
      ],
      "metadata": {
        "id": "AVbmnFNXpUnd"
      }
    },
    {
      "cell_type": "code",
      "source": [
        "model = keras.models.load_model(\"miRBind.h5\")\n",
        "model.summary()"
      ],
      "metadata": {
        "colab": {
          "base_uri": "https://localhost:8080/"
        },
        "id": "sUXpQQqmpQY6",
        "outputId": "fcda78df-880c-44ba-b8a0-f1947d59106b"
      },
      "execution_count": 4,
      "outputs": [
        {
          "output_type": "stream",
          "name": "stdout",
          "text": [
            "Model: \"resnet\"\n",
            "_________________________________________________________________\n",
            " Layer (type)                Output Shape              Param #   \n",
            "=================================================================\n",
            " input_4 (InputLayer)        [(None, 50, 20, 1)]       0         \n",
            "                                                                 \n",
            " batch_normalization_90 (Ba  (None, 50, 20, 1)         4         \n",
            " tchNormalization)                                               \n",
            "                                                                 \n",
            " conv2d_93 (Conv2D)          (None, 50, 20, 16)        160       \n",
            "                                                                 \n",
            " re_lu_87 (ReLU)             (None, 50, 20, 16)        0         \n",
            "                                                                 \n",
            " batch_normalization_91 (Ba  (None, 50, 20, 16)        64        \n",
            " tchNormalization)                                               \n",
            "                                                                 \n",
            " dropout_45 (Dropout)        (None, 50, 20, 16)        0         \n",
            "                                                                 \n",
            " res_block (ResBlock)        (None, 50, 20, 16)        4768      \n",
            "                                                                 \n",
            " dropout_46 (Dropout)        (None, 50, 20, 16)        0         \n",
            "                                                                 \n",
            " res_block_1 (ResBlock)      (None, 50, 20, 16)        4768      \n",
            "                                                                 \n",
            " dropout_47 (Dropout)        (None, 50, 20, 16)        0         \n",
            "                                                                 \n",
            " res_block_2 (ResBlock)      (None, 50, 20, 16)        4768      \n",
            "                                                                 \n",
            " dropout_48 (Dropout)        (None, 50, 20, 16)        0         \n",
            "                                                                 \n",
            " res_block_3 (ResBlock)      (None, 50, 20, 16)        4768      \n",
            "                                                                 \n",
            " dropout_49 (Dropout)        (None, 50, 20, 16)        0         \n",
            "                                                                 \n",
            " res_block_4 (ResBlock)      (None, 25, 10, 32)        14688     \n",
            "                                                                 \n",
            " dropout_50 (Dropout)        (None, 25, 10, 32)        0         \n",
            "                                                                 \n",
            " res_block_5 (ResBlock)      (None, 25, 10, 32)        18752     \n",
            "                                                                 \n",
            " dropout_51 (Dropout)        (None, 25, 10, 32)        0         \n",
            "                                                                 \n",
            " res_block_6 (ResBlock)      (None, 25, 10, 32)        18752     \n",
            "                                                                 \n",
            " dropout_52 (Dropout)        (None, 25, 10, 32)        0         \n",
            "                                                                 \n",
            " res_block_7 (ResBlock)      (None, 25, 10, 32)        18752     \n",
            "                                                                 \n",
            " dropout_53 (Dropout)        (None, 25, 10, 32)        0         \n",
            "                                                                 \n",
            " res_block_8 (ResBlock)      (None, 25, 10, 32)        18752     \n",
            "                                                                 \n",
            " dropout_54 (Dropout)        (None, 25, 10, 32)        0         \n",
            "                                                                 \n",
            " res_block_9 (ResBlock)      (None, 25, 10, 32)        18752     \n",
            "                                                                 \n",
            " dropout_55 (Dropout)        (None, 25, 10, 32)        0         \n",
            "                                                                 \n",
            " res_block_10 (ResBlock)     (None, 13, 5, 64)         58048     \n",
            "                                                                 \n",
            " dropout_56 (Dropout)        (None, 13, 5, 64)         0         \n",
            "                                                                 \n",
            " res_block_11 (ResBlock)     (None, 13, 5, 64)         74368     \n",
            "                                                                 \n",
            " dropout_57 (Dropout)        (None, 13, 5, 64)         0         \n",
            "                                                                 \n",
            " res_block_12 (ResBlock)     (None, 13, 5, 64)         74368     \n",
            "                                                                 \n",
            " dropout_58 (Dropout)        (None, 13, 5, 64)         0         \n",
            "                                                                 \n",
            " res_block_13 (ResBlock)     (None, 13, 5, 64)         74368     \n",
            "                                                                 \n",
            " dropout_59 (Dropout)        (None, 13, 5, 64)         0         \n",
            "                                                                 \n",
            " average_pooling2d_3 (Avera  (None, 3, 1, 64)          0         \n",
            " gePooling2D)                                                    \n",
            "                                                                 \n",
            " flatten_3 (Flatten)         (None, 192)               0         \n",
            "                                                                 \n",
            " dense_3 (Dense)             (None, 2)                 386       \n",
            "                                                                 \n",
            "=================================================================\n",
            "Total params: 409286 (1.56 MB)\n",
            "Trainable params: 407204 (1.55 MB)\n",
            "Non-trainable params: 2082 (8.13 KB)\n",
            "_________________________________________________________________\n"
          ]
        }
      ]
    },
    {
      "cell_type": "markdown",
      "source": [
        "## 2.4. Data\n",
        "\n",
        "As a data samples, we will use evaluation set of data from [Helwak et al. 2013](https://doi.org/10.1016%2Fj.cell.2013.03.043) processed by [Klimentova et al. 2022](https://doi.org/10.3390/genes13122323)."
      ],
      "metadata": {
        "id": "jfrxUaHCpth7"
      }
    },
    {
      "cell_type": "code",
      "source": [
        "!wget https://raw.githubusercontent.com/ML-Bioinfo-CEITEC/miRBind/main/Datasets/evaluation_set_1_1_CLASH2013_paper.tsv"
      ],
      "metadata": {
        "colab": {
          "base_uri": "https://localhost:8080/"
        },
        "id": "4TYQh7nJqJKf",
        "outputId": "cc97c0ee-d970-437e-d07b-0c6e7f13a541"
      },
      "execution_count": 5,
      "outputs": [
        {
          "output_type": "stream",
          "name": "stdout",
          "text": [
            "--2024-06-04 18:13:06--  https://raw.githubusercontent.com/ML-Bioinfo-CEITEC/miRBind/main/Datasets/evaluation_set_1_1_CLASH2013_paper.tsv\n",
            "Resolving raw.githubusercontent.com (raw.githubusercontent.com)... 185.199.108.133, 185.199.109.133, 185.199.110.133, ...\n",
            "Connecting to raw.githubusercontent.com (raw.githubusercontent.com)|185.199.108.133|:443... connected.\n",
            "HTTP request sent, awaiting response... 200 OK\n",
            "Length: 147946 (144K) [text/plain]\n",
            "Saving to: ‘evaluation_set_1_1_CLASH2013_paper.tsv’\n",
            "\n",
            "evaluation_set_1_1_ 100%[===================>] 144.48K  --.-KB/s    in 0.02s   \n",
            "\n",
            "2024-06-04 18:13:07 (9.22 MB/s) - ‘evaluation_set_1_1_CLASH2013_paper.tsv’ saved [147946/147946]\n",
            "\n"
          ]
        }
      ]
    },
    {
      "cell_type": "markdown",
      "source": [
        "We will load data into the pandas `DataFrame` with columns `miRNA, gene, label`. Column `miRNA` contains ~20nt long miRNA sequences. Column `gene` contains ~50nt binding sites sequences. Columns `label` is binary, value `1` marking positive pair identified by the exmeriment and value `0` marking negative pair."
      ],
      "metadata": {
        "id": "_hZpY8_uqQ-K"
      }
    },
    {
      "cell_type": "code",
      "source": [
        "samples = pd.read_csv('evaluation_set_1_1_CLASH2013_paper.tsv', sep='\\t')\n",
        "samples.head()"
      ],
      "metadata": {
        "colab": {
          "base_uri": "https://localhost:8080/",
          "height": 206
        },
        "id": "OpCaVZEpqNyB",
        "outputId": "2a5918f4-20c6-404c-c9ac-ba3a28a2a093"
      },
      "execution_count": 6,
      "outputs": [
        {
          "output_type": "execute_result",
          "data": {
            "text/plain": [
              "                  miRNA                                               gene  \\\n",
              "0  TAGGTAGTTTCATGTTGTTG  AGACCAGCAACAAACTACCAACACTGTAGAGGAGCCCCTGGATCTT...   \n",
              "1  GCAGTCCATGGGCATATACA  CAGCCAAGCCCAGGCTCGCAGTATCAATAAAGCAGTTCTCTGAGGA...   \n",
              "2  CAAAGTGCTTACAGTGCAGG  TGAGAACACTTAAAGTTCAAATAGAAATCATTTCTGAAGACAAAAG...   \n",
              "3  GAGGGTTGGGTGGAGGCTCT  AATGCCCCAAAATCCAAACCTTCCTGAACGCTATGACACCATGAGT...   \n",
              "4  ACTGCCCTAAGTGCTCCTTC  AAGAAACTAGGAGAATGGGTAGGCCTTTGTAAAATTGACAGAGAGG...   \n",
              "\n",
              "   label  \n",
              "0      1  \n",
              "1      1  \n",
              "2      1  \n",
              "3      1  \n",
              "4      1  "
            ],
            "text/html": [
              "\n",
              "  <div id=\"df-48c764a1-201a-4eaf-ad78-17b92cc8b67c\" class=\"colab-df-container\">\n",
              "    <div>\n",
              "<style scoped>\n",
              "    .dataframe tbody tr th:only-of-type {\n",
              "        vertical-align: middle;\n",
              "    }\n",
              "\n",
              "    .dataframe tbody tr th {\n",
              "        vertical-align: top;\n",
              "    }\n",
              "\n",
              "    .dataframe thead th {\n",
              "        text-align: right;\n",
              "    }\n",
              "</style>\n",
              "<table border=\"1\" class=\"dataframe\">\n",
              "  <thead>\n",
              "    <tr style=\"text-align: right;\">\n",
              "      <th></th>\n",
              "      <th>miRNA</th>\n",
              "      <th>gene</th>\n",
              "      <th>label</th>\n",
              "    </tr>\n",
              "  </thead>\n",
              "  <tbody>\n",
              "    <tr>\n",
              "      <th>0</th>\n",
              "      <td>TAGGTAGTTTCATGTTGTTG</td>\n",
              "      <td>AGACCAGCAACAAACTACCAACACTGTAGAGGAGCCCCTGGATCTT...</td>\n",
              "      <td>1</td>\n",
              "    </tr>\n",
              "    <tr>\n",
              "      <th>1</th>\n",
              "      <td>GCAGTCCATGGGCATATACA</td>\n",
              "      <td>CAGCCAAGCCCAGGCTCGCAGTATCAATAAAGCAGTTCTCTGAGGA...</td>\n",
              "      <td>1</td>\n",
              "    </tr>\n",
              "    <tr>\n",
              "      <th>2</th>\n",
              "      <td>CAAAGTGCTTACAGTGCAGG</td>\n",
              "      <td>TGAGAACACTTAAAGTTCAAATAGAAATCATTTCTGAAGACAAAAG...</td>\n",
              "      <td>1</td>\n",
              "    </tr>\n",
              "    <tr>\n",
              "      <th>3</th>\n",
              "      <td>GAGGGTTGGGTGGAGGCTCT</td>\n",
              "      <td>AATGCCCCAAAATCCAAACCTTCCTGAACGCTATGACACCATGAGT...</td>\n",
              "      <td>1</td>\n",
              "    </tr>\n",
              "    <tr>\n",
              "      <th>4</th>\n",
              "      <td>ACTGCCCTAAGTGCTCCTTC</td>\n",
              "      <td>AAGAAACTAGGAGAATGGGTAGGCCTTTGTAAAATTGACAGAGAGG...</td>\n",
              "      <td>1</td>\n",
              "    </tr>\n",
              "  </tbody>\n",
              "</table>\n",
              "</div>\n",
              "    <div class=\"colab-df-buttons\">\n",
              "\n",
              "  <div class=\"colab-df-container\">\n",
              "    <button class=\"colab-df-convert\" onclick=\"convertToInteractive('df-48c764a1-201a-4eaf-ad78-17b92cc8b67c')\"\n",
              "            title=\"Convert this dataframe to an interactive table.\"\n",
              "            style=\"display:none;\">\n",
              "\n",
              "  <svg xmlns=\"http://www.w3.org/2000/svg\" height=\"24px\" viewBox=\"0 -960 960 960\">\n",
              "    <path d=\"M120-120v-720h720v720H120Zm60-500h600v-160H180v160Zm220 220h160v-160H400v160Zm0 220h160v-160H400v160ZM180-400h160v-160H180v160Zm440 0h160v-160H620v160ZM180-180h160v-160H180v160Zm440 0h160v-160H620v160Z\"/>\n",
              "  </svg>\n",
              "    </button>\n",
              "\n",
              "  <style>\n",
              "    .colab-df-container {\n",
              "      display:flex;\n",
              "      gap: 12px;\n",
              "    }\n",
              "\n",
              "    .colab-df-convert {\n",
              "      background-color: #E8F0FE;\n",
              "      border: none;\n",
              "      border-radius: 50%;\n",
              "      cursor: pointer;\n",
              "      display: none;\n",
              "      fill: #1967D2;\n",
              "      height: 32px;\n",
              "      padding: 0 0 0 0;\n",
              "      width: 32px;\n",
              "    }\n",
              "\n",
              "    .colab-df-convert:hover {\n",
              "      background-color: #E2EBFA;\n",
              "      box-shadow: 0px 1px 2px rgba(60, 64, 67, 0.3), 0px 1px 3px 1px rgba(60, 64, 67, 0.15);\n",
              "      fill: #174EA6;\n",
              "    }\n",
              "\n",
              "    .colab-df-buttons div {\n",
              "      margin-bottom: 4px;\n",
              "    }\n",
              "\n",
              "    [theme=dark] .colab-df-convert {\n",
              "      background-color: #3B4455;\n",
              "      fill: #D2E3FC;\n",
              "    }\n",
              "\n",
              "    [theme=dark] .colab-df-convert:hover {\n",
              "      background-color: #434B5C;\n",
              "      box-shadow: 0px 1px 3px 1px rgba(0, 0, 0, 0.15);\n",
              "      filter: drop-shadow(0px 1px 2px rgba(0, 0, 0, 0.3));\n",
              "      fill: #FFFFFF;\n",
              "    }\n",
              "  </style>\n",
              "\n",
              "    <script>\n",
              "      const buttonEl =\n",
              "        document.querySelector('#df-48c764a1-201a-4eaf-ad78-17b92cc8b67c button.colab-df-convert');\n",
              "      buttonEl.style.display =\n",
              "        google.colab.kernel.accessAllowed ? 'block' : 'none';\n",
              "\n",
              "      async function convertToInteractive(key) {\n",
              "        const element = document.querySelector('#df-48c764a1-201a-4eaf-ad78-17b92cc8b67c');\n",
              "        const dataTable =\n",
              "          await google.colab.kernel.invokeFunction('convertToInteractive',\n",
              "                                                    [key], {});\n",
              "        if (!dataTable) return;\n",
              "\n",
              "        const docLinkHtml = 'Like what you see? Visit the ' +\n",
              "          '<a target=\"_blank\" href=https://colab.research.google.com/notebooks/data_table.ipynb>data table notebook</a>'\n",
              "          + ' to learn more about interactive tables.';\n",
              "        element.innerHTML = '';\n",
              "        dataTable['output_type'] = 'display_data';\n",
              "        await google.colab.output.renderOutput(dataTable, element);\n",
              "        const docLink = document.createElement('div');\n",
              "        docLink.innerHTML = docLinkHtml;\n",
              "        element.appendChild(docLink);\n",
              "      }\n",
              "    </script>\n",
              "  </div>\n",
              "\n",
              "\n",
              "<div id=\"df-cec789e0-7230-47f4-b1cc-f42cad5c40de\">\n",
              "  <button class=\"colab-df-quickchart\" onclick=\"quickchart('df-cec789e0-7230-47f4-b1cc-f42cad5c40de')\"\n",
              "            title=\"Suggest charts\"\n",
              "            style=\"display:none;\">\n",
              "\n",
              "<svg xmlns=\"http://www.w3.org/2000/svg\" height=\"24px\"viewBox=\"0 0 24 24\"\n",
              "     width=\"24px\">\n",
              "    <g>\n",
              "        <path d=\"M19 3H5c-1.1 0-2 .9-2 2v14c0 1.1.9 2 2 2h14c1.1 0 2-.9 2-2V5c0-1.1-.9-2-2-2zM9 17H7v-7h2v7zm4 0h-2V7h2v10zm4 0h-2v-4h2v4z\"/>\n",
              "    </g>\n",
              "</svg>\n",
              "  </button>\n",
              "\n",
              "<style>\n",
              "  .colab-df-quickchart {\n",
              "      --bg-color: #E8F0FE;\n",
              "      --fill-color: #1967D2;\n",
              "      --hover-bg-color: #E2EBFA;\n",
              "      --hover-fill-color: #174EA6;\n",
              "      --disabled-fill-color: #AAA;\n",
              "      --disabled-bg-color: #DDD;\n",
              "  }\n",
              "\n",
              "  [theme=dark] .colab-df-quickchart {\n",
              "      --bg-color: #3B4455;\n",
              "      --fill-color: #D2E3FC;\n",
              "      --hover-bg-color: #434B5C;\n",
              "      --hover-fill-color: #FFFFFF;\n",
              "      --disabled-bg-color: #3B4455;\n",
              "      --disabled-fill-color: #666;\n",
              "  }\n",
              "\n",
              "  .colab-df-quickchart {\n",
              "    background-color: var(--bg-color);\n",
              "    border: none;\n",
              "    border-radius: 50%;\n",
              "    cursor: pointer;\n",
              "    display: none;\n",
              "    fill: var(--fill-color);\n",
              "    height: 32px;\n",
              "    padding: 0;\n",
              "    width: 32px;\n",
              "  }\n",
              "\n",
              "  .colab-df-quickchart:hover {\n",
              "    background-color: var(--hover-bg-color);\n",
              "    box-shadow: 0 1px 2px rgba(60, 64, 67, 0.3), 0 1px 3px 1px rgba(60, 64, 67, 0.15);\n",
              "    fill: var(--button-hover-fill-color);\n",
              "  }\n",
              "\n",
              "  .colab-df-quickchart-complete:disabled,\n",
              "  .colab-df-quickchart-complete:disabled:hover {\n",
              "    background-color: var(--disabled-bg-color);\n",
              "    fill: var(--disabled-fill-color);\n",
              "    box-shadow: none;\n",
              "  }\n",
              "\n",
              "  .colab-df-spinner {\n",
              "    border: 2px solid var(--fill-color);\n",
              "    border-color: transparent;\n",
              "    border-bottom-color: var(--fill-color);\n",
              "    animation:\n",
              "      spin 1s steps(1) infinite;\n",
              "  }\n",
              "\n",
              "  @keyframes spin {\n",
              "    0% {\n",
              "      border-color: transparent;\n",
              "      border-bottom-color: var(--fill-color);\n",
              "      border-left-color: var(--fill-color);\n",
              "    }\n",
              "    20% {\n",
              "      border-color: transparent;\n",
              "      border-left-color: var(--fill-color);\n",
              "      border-top-color: var(--fill-color);\n",
              "    }\n",
              "    30% {\n",
              "      border-color: transparent;\n",
              "      border-left-color: var(--fill-color);\n",
              "      border-top-color: var(--fill-color);\n",
              "      border-right-color: var(--fill-color);\n",
              "    }\n",
              "    40% {\n",
              "      border-color: transparent;\n",
              "      border-right-color: var(--fill-color);\n",
              "      border-top-color: var(--fill-color);\n",
              "    }\n",
              "    60% {\n",
              "      border-color: transparent;\n",
              "      border-right-color: var(--fill-color);\n",
              "    }\n",
              "    80% {\n",
              "      border-color: transparent;\n",
              "      border-right-color: var(--fill-color);\n",
              "      border-bottom-color: var(--fill-color);\n",
              "    }\n",
              "    90% {\n",
              "      border-color: transparent;\n",
              "      border-bottom-color: var(--fill-color);\n",
              "    }\n",
              "  }\n",
              "</style>\n",
              "\n",
              "  <script>\n",
              "    async function quickchart(key) {\n",
              "      const quickchartButtonEl =\n",
              "        document.querySelector('#' + key + ' button');\n",
              "      quickchartButtonEl.disabled = true;  // To prevent multiple clicks.\n",
              "      quickchartButtonEl.classList.add('colab-df-spinner');\n",
              "      try {\n",
              "        const charts = await google.colab.kernel.invokeFunction(\n",
              "            'suggestCharts', [key], {});\n",
              "      } catch (error) {\n",
              "        console.error('Error during call to suggestCharts:', error);\n",
              "      }\n",
              "      quickchartButtonEl.classList.remove('colab-df-spinner');\n",
              "      quickchartButtonEl.classList.add('colab-df-quickchart-complete');\n",
              "    }\n",
              "    (() => {\n",
              "      let quickchartButtonEl =\n",
              "        document.querySelector('#df-cec789e0-7230-47f4-b1cc-f42cad5c40de button');\n",
              "      quickchartButtonEl.style.display =\n",
              "        google.colab.kernel.accessAllowed ? 'block' : 'none';\n",
              "    })();\n",
              "  </script>\n",
              "</div>\n",
              "    </div>\n",
              "  </div>\n"
            ],
            "application/vnd.google.colaboratory.intrinsic+json": {
              "type": "dataframe",
              "variable_name": "samples",
              "summary": "{\n  \"name\": \"samples\",\n  \"rows\": 2000,\n  \"fields\": [\n    {\n      \"column\": \"miRNA\",\n      \"properties\": {\n        \"dtype\": \"category\",\n        \"num_unique_values\": 379,\n        \"samples\": [\n          \"CTGTGCGTGTGACAGCGGCT\",\n          \"CCCCAGGGCGACGCGGCGGG\",\n          \"CTGGGAGAAGGCTGTTTACT\"\n        ],\n        \"semantic_type\": \"\",\n        \"description\": \"\"\n      }\n    },\n    {\n      \"column\": \"gene\",\n      \"properties\": {\n        \"dtype\": \"string\",\n        \"num_unique_values\": 1927,\n        \"samples\": [\n          \"GACCAGCCTGCACTGTGCCTTAACAGAAGGTCTTGAGATTCTAAGTGGGA\",\n          \"CCTGGGGTTGCAGCTCCCCCAGAAGTAGCACCTGCTCCCAAATCATGGGC\",\n          \"ATATGGAGAGCGGAATCTGGATAGATGGCGGGATAAGCATGTGGACCGCC\"\n        ],\n        \"semantic_type\": \"\",\n        \"description\": \"\"\n      }\n    },\n    {\n      \"column\": \"label\",\n      \"properties\": {\n        \"dtype\": \"number\",\n        \"std\": 0,\n        \"min\": 0,\n        \"max\": 1,\n        \"num_unique_values\": 2,\n        \"samples\": [\n          0,\n          1\n        ],\n        \"semantic_type\": \"\",\n        \"description\": \"\"\n      }\n    }\n  ]\n}"
            }
          },
          "metadata": {},
          "execution_count": 6
        }
      ]
    },
    {
      "cell_type": "markdown",
      "source": [
        "## 2.5. Seed\n",
        "\n",
        "Setting the random seed to make experiments reproducible."
      ],
      "metadata": {
        "id": "b-bWIojUqfKh"
      }
    },
    {
      "cell_type": "code",
      "source": [
        "random.seed(42)"
      ],
      "metadata": {
        "id": "IlfwZTq_qibe"
      },
      "execution_count": 7,
      "outputs": []
    },
    {
      "cell_type": "markdown",
      "source": [
        "# 3. Prediction\n",
        "\n",
        "Before we will dive into the interpretation of the model, we will first look at the model's prediction on one selected sample and then we will compute precision-recall curve for the whole dataset. It is reasonable to check that model is performing well before we will try to interpret it."
      ],
      "metadata": {
        "id": "N52Oq5qUriLF"
      }
    },
    {
      "cell_type": "markdown",
      "source": [
        "## 3.1. Looking at data sample\n",
        "\n",
        "One of the interesting things about the `miRBind` model is that it works with an image representation of input data.\n",
        "\n",
        "Input miRNA:binding site pair is encoded into so called *2D-binding matrix*. This matrix has rows corresponding to the binding site nucleotides and columns corresponding to the miRNA nucleotides. Matrix is filled with the while pixes, if given nucleotides for a Watson-Crick pairing and with the black pixel otherwise.\n",
        "\n",
        "We can use `one_hot_encoding(miRNA, gene)` function from the `deepexperiment.utils` to do this transformation. Resulting tensor has dimensions `(1, 50, 20, 1)`, where\n",
        "- the first dimension is number of samples in a batch\n",
        "- the second dimension is number of rows\n",
        "- the third dimension is number of columns\n",
        "- and the fourth dimension is number of channels in the image\n",
        "\n",
        "To visualize the sample, we can use `matplotlib`, but we need to remove the batch and channels dimension."
      ],
      "metadata": {
        "id": "WzIA9Em2rp14"
      }
    },
    {
      "cell_type": "code",
      "source": [
        "index = 0\n",
        "print(\"Looking at index:\", index)\n",
        "\n",
        "miRNA = samples['miRNA'][index]\n",
        "gene = samples['gene'][index]\n",
        "data = one_hot_encoding(miRNA, gene)\n",
        "\n",
        "print(\"miRNA:\", miRNA)\n",
        "print(\"binding site:\", gene)\n",
        "\n",
        "fig, ax = plt.subplots(1,1, figsize=(10, 10))\n",
        "ax.imshow(data[0,:,:,0], cmap='gray')\n",
        "ax.set_xticks(range(len(miRNA)))\n",
        "ax.set_xticklabels(miRNA)\n",
        "ax.set_yticks(range(len(gene)))\n",
        "ax.set_yticklabels(gene)\n",
        "plt.plot();"
      ],
      "metadata": {
        "colab": {
          "base_uri": "https://localhost:8080/",
          "height": 882
        },
        "id": "MEMdpi7Yrpbw",
        "outputId": "be6287b8-5783-426d-ab1c-d1b08f3d20ce"
      },
      "execution_count": 8,
      "outputs": [
        {
          "output_type": "stream",
          "name": "stdout",
          "text": [
            "Looking at index: 0\n",
            "miRNA: TAGGTAGTTTCATGTTGTTG\n",
            "binding site: AGACCAGCAACAAACTACCAACACTGTAGAGGAGCCCCTGGATCTTATCA\n"
          ]
        },
        {
          "output_type": "display_data",
          "data": {
            "text/plain": [
              "<Figure size 1000x1000 with 1 Axes>"
            ],
            "image/png": "[encoded data removed]"
          },
          "metadata": {}
        }
      ]
    },
    {
      "cell_type": "markdown",
      "source": [
        "## 3.2. Scoring miRNA:binding site pairs\n",
        "\n",
        "To get the `miRBind`'s prediction, we call `predict()` method, passing the data in the 2D-binding matrix format. This method returns an array with predictions. Lenght of returned array equals to the number of samples in a batch that was sent to the `predict()` method (1 in our case). Each element of the array contains two walues:\n",
        "- probability that given sample belongs to the negative class\n",
        "- probability that given sample belongs to the positive clas\n",
        "\n",
        "This is because the `miRBind` model was trained as a multiclass clasification. Sum of these values is always 1."
      ],
      "metadata": {
        "id": "lyeKno82r8TL"
      }
    },
    {
      "cell_type": "code",
      "source": [
        "index = 10\n",
        "print(\"Looking at index:\", index)\n",
        "\n",
        "miRNA = samples['miRNA'][index]\n",
        "gene = samples['gene'][index]\n",
        "data = one_hot_encoding(miRNA, gene)\n",
        "\n",
        "print(\"True label:\", samples['label'][index])\n",
        "\n",
        "preds = model.predict(data, verbose=0)\n",
        "print(\"Prediction:\\n  negative \", preds[0][0], \"\\n  positive \", preds[0][1])"
      ],
      "metadata": {
        "colab": {
          "base_uri": "https://localhost:8080/"
        },
        "id": "x_tIPn0ar8BB",
        "outputId": "1db23f4a-9fb8-49f1-81a0-6cb2f1cb415c"
      },
      "execution_count": 9,
      "outputs": [
        {
          "output_type": "stream",
          "name": "stdout",
          "text": [
            "Looking at index: 10\n",
            "True label: 1\n",
            "Prediction:\n",
            "  negative  0.09809113 \n",
            "  positive  0.9019088\n"
          ]
        }
      ]
    },
    {
      "cell_type": "markdown",
      "source": [
        "We can also score multiple samples at a time and compute the precision-recall curve.\n",
        "\n",
        "To transform multiple samples into a 2D-binding matrix, use `one_hot_encoding_batch()` function, passing it a `DataFrame` with samples. It will produce:\n",
        "- `data` with shape (num_of_samples, 50, 20, 1) with encoded input samples\n",
        "- array `labels` with lenglet of number of input samples containing true labels\n",
        "\n",
        "To get a prediction, we again use the `predict()` method. It this case, we will get and array of predictions with the length of input samples. Each element of array contains two values (probability that given sample belongs to the negative and positive class). To compute a precision-recall curve, we would need an array of probabilities that a given samples belong to the positive class, so we extract only those values (`pred_f = pred[:, 1]`)."
      ],
      "metadata": {
        "id": "6AEazBRysFe7"
      }
    },
    {
      "cell_type": "code",
      "source": [
        "# prepare data for the model\n",
        "data, labels = one_hot_encoding_batch(samples)\n",
        "\n",
        "# get predictions\n",
        "pred = model.predict(data)\n",
        "pred_f = pred[:, 1]\n",
        "\n",
        "#calculate precision and recall\n",
        "precision, recall, thresholds = precision_recall_curve(labels, pred_f)\n",
        "\n",
        "# calculate precision-recall AUC\n",
        "print(\"Precision-recall AUC:\", metrics.auc(recall, precision))\n",
        "\n",
        "#create precision recall curve\n",
        "fig, ax = plt.subplots()\n",
        "ax.plot(recall, precision, color='purple')\n",
        "\n",
        "#add axis labels to plot\n",
        "ax.set_title('Precision-Recall Curve')\n",
        "ax.set_ylabel('Precision')\n",
        "ax.set_xlabel('Recall')\n",
        "\n",
        "#display plot\n",
        "plt.show()"
      ],
      "metadata": {
        "colab": {
          "base_uri": "https://localhost:8080/",
          "height": 507
        },
        "id": "6XT_xTMesGWv",
        "outputId": "031ab69f-ecee-491a-e0ad-a3350f146bfc"
      },
      "execution_count": 10,
      "outputs": [
        {
          "output_type": "stream",
          "name": "stdout",
          "text": [
            "63/63 [==============================] - 2s 19ms/step\n",
            "Precision-recall AUC: 0.9717336292675868\n"
          ]
        },
        {
          "output_type": "display_data",
          "data": {
            "text/plain": [
              "<Figure size 640x480 with 1 Axes>"
            ],
            "image/png": "[encoded data removed]"
          },
          "metadata": {}
        }
      ]
    },
    {
      "cell_type": "markdown",
      "source": [
        "# 4. Interpretation"
      ],
      "metadata": {
        "id": "MTsuk2EwFNII"
      }
    },
    {
      "cell_type": "markdown",
      "source": [
        "## 4.1. SHAP attribution scores\n",
        "\n",
        "Since input of our neural network is in the image format, we can use an interpretation technique from the computer vision. In this section, we will use the SHAP method.\n",
        "\n",
        "Due to computational complexity, we will use a subset of the  data as background samples. We will use 100 samples.\n",
        "\n",
        "Note: you can utilize GPU for faster computation."
      ],
      "metadata": {
        "id": "BRJkEL4SJmO4"
      }
    },
    {
      "cell_type": "code",
      "source": [
        "rand_samples = samples.sample(n=100, replace=False, random_state=42).reset_index(drop=True)\n",
        "background, _ = one_hot_encoding_batch(rand_samples)"
      ],
      "metadata": {
        "id": "3PXD61tFKxcp"
      },
      "execution_count": 11,
      "outputs": []
    },
    {
      "cell_type": "code",
      "source": [
        "# these layers are not supported, so the workaround presented on the github is to use passthrough\n",
        "shap.explainers._deep.deep_tf.op_handlers[\"AddV2\"] = shap.explainers._deep.deep_tf.passthrough\n",
        "shap.explainers._deep.deep_tf.op_handlers[\"FusedBatchNormV3\"] = shap.explainers._deep.deep_tf.passthrough\n",
        "\n",
        "# create explainer for the model and background\n",
        "explainer = shap.DeepExplainer(model, background)"
      ],
      "metadata": {
        "colab": {
          "base_uri": "https://localhost:8080/"
        },
        "id": "3Dgj5-RNLEwC",
        "outputId": "33648b36-dc15-464b-febc-43436b33e03b"
      },
      "execution_count": 14,
      "outputs": [
        {
          "output_type": "stream",
          "name": "stderr",
          "text": [
            "/usr/local/lib/python3.10/dist-packages/shap/explainers/_deep/deep_tf.py:99: UserWarning: Your TensorFlow version is newer than 2.4.0 and so graph support has been removed in eager mode and some static graphs may not be supported. See PR #1483 for discussion.\n",
            "  warnings.warn(\"Your TensorFlow version is newer than 2.4.0 and so graph support has been removed in eager mode and some static graphs may not be supported. See PR #1483 for discussion.\")\n"
          ]
        }
      ]
    },
    {
      "cell_type": "code",
      "source": [
        "# explain one input data sample\n",
        "index = 10\n",
        "miRNA = samples['miRNA'][index]\n",
        "gene = samples['gene'][index]\n",
        "data = one_hot_encoding(miRNA, gene)\n",
        "print(\"True label:\", samples['label'][index])\n",
        "\n",
        "preds = model.predict(data, verbose=0)\n",
        "print(\"Prediction:\\n  negative \", preds[0][0], \"\\n  positive \", preds[0][1])\n",
        "\n",
        "shap_values = explainer.shap_values(data)\n",
        "neg_shap, pos_shap = shap_values[:, :, :, :, 0], shap_values[:, :, :, :, 1]"
      ],
      "metadata": {
        "colab": {
          "base_uri": "https://localhost:8080/"
        },
        "id": "CQEsr-2OLvZs",
        "outputId": "c4e79286-7aeb-4a5b-a337-46ba72cde402"
      },
      "execution_count": 19,
      "outputs": [
        {
          "output_type": "stream",
          "name": "stdout",
          "text": [
            "True label: 1\n",
            "Prediction:\n",
            "  negative  0.09809113 \n",
            "  positive  0.9019088\n"
          ]
        }
      ]
    },
    {
      "cell_type": "markdown",
      "source": [
        "SHAP interpretation techniques produces a heatmap with tha attribution score for each pixel on the input. Red pixels were positively influencing the assignent to the positive class and blue pixels were negatively influencing assignment to the positive class. Attribution to the negative class is not plotted, but it is symmetric in this case where we have only two classes."
      ],
      "metadata": {
        "id": "bW4Ag14cNVa6"
      }
    },
    {
      "cell_type": "code",
      "source": [
        "fig, ax = plt.subplots(1,1, figsize=(5, 12))\n",
        "\n",
        "abs_vals = np.stack(np.abs(pos_shap.sum(-1)), 0).flatten()\n",
        "max_val = np.nanpercentile(abs_vals, 99.9)\n",
        "ax.imshow(data[0,:,:,0], alpha=0.1, cmap='gray')\n",
        "im = ax.matshow(pos_shap[0,:,:,0], cmap=red_transparent_blue, vmin=-max_val, vmax=max_val)\n",
        "ax.set_xticks(range(len(miRNA)))\n",
        "ax.set_xticklabels(miRNA)\n",
        "ax.set_yticks(range(len(gene)))\n",
        "ax.set_yticklabels(gene)\n",
        "\n",
        "cb = plt.colorbar(im, label=\"SHAP value\", orientation=\"horizontal\")\n",
        "\n",
        "plt.show();"
      ],
      "metadata": {
        "colab": {
          "base_uri": "https://localhost:8080/",
          "height": 908
        },
        "id": "iyg7kSR5LI-a",
        "outputId": "b5aa7bb0-b0c1-44b3-b0b0-229a718f8162"
      },
      "execution_count": 20,
      "outputs": [
        {
          "output_type": "display_data",
          "data": {
            "text/plain": [
              "<Figure size 500x1200 with 2 Axes>"
            ],
            "image/png": "[encoded data removed]"
          },
          "metadata": {}
        }
      ]
    },
    {
      "cell_type": "markdown",
      "source": [
        "# 5. Extracting biological knowledge\n",
        "\n",
        "Computing SHAP attribution scores can be enough for image data where we understand the image just by looking at it. For the image with a cat we would expect a cat to be important for a model and not its surrounding. But in this case, we don't understand which parts of the input are supposed to be important.\n",
        "\n",
        "Moreover, we don't even understand the biological process enough to verify the model by hand. We only have the experimental data that gives are positive and negative pairs (miRNAs with targets and miRNAs with non-targets). We don't know which parts of sequences are more or less important for the interaction.\n",
        "\n",
        "But the neural network could be able to know that. In the *Prediction* section we saw that our model has a hight predictive power. To achieve that the network had to find some underlying biological principes in the training data. And using the right interpretation and visualization techniques, we could extract these learned biological principles from the network."
      ],
      "metadata": {
        "id": "La-jRG5WQkkA"
      }
    },
    {
      "cell_type": "markdown",
      "source": [
        "## 5.1. Attrament (attribution sequence alignment)\n",
        "\n",
        "The Attrament (attribution sequence alignment) technique ([Gresova et al. 2023](https://doi.org/10.3390/biology12030369)) is based on the principles of dynamic programming for semi-global sequence alignment computed on top of attribution scores obtained from interpreting the trained neural network by the SHAP method.\n",
        "\n",
        "More simply, input \"image\" is encoding all possible alignments between miRNA and target sequence. SHAP atttribution scores are highliting important parts. And Attrament is computing the most probable aligment.\n",
        "\n",
        "`Attrament()` is available in [DeepExperiment](https://github.com/katarinagresova/DeepExperiment) package. It produces three sequences on output:\n",
        "- align_gene:\n",
        "- align_score:\n",
        "- align_miRNA:\n",
        "\n"
      ],
      "metadata": {
        "id": "wS__4dIaMKek"
      }
    },
    {
      "cell_type": "code",
      "source": [
        "attrament = Attrament()\n",
        "align_gene, align_score, align_miRNA = attrament(miRNA[::-1], gene, pos_shap[0,:,:,0])"
      ],
      "metadata": {
        "id": "IDtkubYGMKM1"
      },
      "execution_count": 21,
      "outputs": []
    },
    {
      "cell_type": "markdown",
      "source": [
        "To see the alignment, we can simply plot the aligned sequences"
      ],
      "metadata": {
        "id": "VnC7ROpZewPn"
      }
    },
    {
      "cell_type": "code",
      "source": [
        "print(\" \".join(align_gene))\n",
        "print(\" \".join(align_miRNA))"
      ],
      "metadata": {
        "colab": {
          "base_uri": "https://localhost:8080/"
        },
        "id": "MhB-6nK8euRv",
        "outputId": "69e4f1a0-7f8d-41e8-9cf0-6a57657b5b59"
      },
      "execution_count": 22,
      "outputs": [
        {
          "output_type": "stream",
          "name": "stdout",
          "text": [
            "C T G T C T C A C T C T A T A G A A A C T A A T G T T A A A A T A T T C C A C A C C A C C C C T T A\n",
            "- - - - - - - - - - - - - - - - - - - - - - - - - T G A G G T A G T A G G T T G T G T G G - - - - -\n"
          ]
        }
      ]
    },
    {
      "cell_type": "markdown",
      "source": [
        "## 5.2. Visualization\n",
        "\n",
        "[DeepExperiment](https://github.com/katarinagresova/DeepExperiment) package also provides methods for visualization.\n",
        "\n",
        "`plot_alignment(align_gene, align_score, align_miRNA)` will plot aligned sequences colored by the attribution scores - brighter red pair is more important."
      ],
      "metadata": {
        "id": "d1fBW-c6e_XE"
      }
    },
    {
      "cell_type": "code",
      "source": [
        "plot_alignment(align_gene, align_score, align_miRNA)"
      ],
      "metadata": {
        "colab": {
          "base_uri": "https://localhost:8080/",
          "height": 184
        },
        "id": "inkPnCBMe__R",
        "outputId": "4b5b772a-1829-4744-8d02-32e28c049bf3"
      },
      "execution_count": 23,
      "outputs": [
        {
          "output_type": "display_data",
          "data": {
            "text/plain": [
              "<Figure size 2000x200 with 1 Axes>"
            ],
            "image/png": "[encoded data removed]"
          },
          "metadata": {}
        }
      ]
    },
    {
      "cell_type": "markdown",
      "source": [
        "`plotbar_miRNA_importance(align_miRNA, align_score)` will visualize importance of individual positions in a miRNA."
      ],
      "metadata": {
        "id": "cLPIY7x9fu50"
      }
    },
    {
      "cell_type": "code",
      "source": [
        "plotbar_miRNA_importance(align_miRNA, align_score)"
      ],
      "metadata": {
        "colab": {
          "base_uri": "https://localhost:8080/",
          "height": 403
        },
        "id": "HvPAfNhDfs17",
        "outputId": "57e9e3c3-0801-4ecf-ab1a-ddda447cad05"
      },
      "execution_count": 24,
      "outputs": [
        {
          "output_type": "stream",
          "name": "stderr",
          "text": [
            "/usr/local/lib/python3.10/dist-packages/deepexperiment/visualization.py:242: UserWarning: FixedFormatter should only be used together with FixedLocator\n",
            "  ax.set_xticklabels(np.arange(1, len(miRNA_s) + 1))\n"
          ]
        },
        {
          "output_type": "display_data",
          "data": {
            "text/plain": [
              "<Figure size 1000x400 with 1 Axes>"
            ],
            "image/png": "[encoded data removed]"
          },
          "metadata": {}
        }
      ]
    },
    {
      "cell_type": "markdown",
      "source": [
        "## Excercise 1: Visualize different data samples\n",
        "\n",
        "Through the whole notebook, we have been working with a sigle data sample. Create a function that will take any `miRNA` and `gene` sequence on the input and it will return `align_gene`, `align_score` and `align_miRNA`."
      ],
      "metadata": {
        "id": "Wfub6KS_ZqBs"
      }
    },
    {
      "cell_type": "code",
      "source": [
        "### Excercise 1 ###\n",
        "\n",
        "def interpret_sample(miRNA, gene):\n",
        "\n",
        "    ## encode miRNA and gene into 2D-binding matrix\n",
        "\n",
        "    ## print true label\n",
        "\n",
        "    ## pring label predicted by a model\n",
        "\n",
        "    ## compute positive and negative SHAP values\n",
        "\n",
        "    ## compute alignment using the Attrament\n",
        "\n",
        "    ## plot alignment\n",
        "\n",
        "    ## plot miRNA importance"
      ],
      "metadata": {
        "id": "YAwhN38BaUef"
      },
      "execution_count": null,
      "outputs": []
    },
    {
      "cell_type": "markdown",
      "source": [
        "After you complete the `interpret_sample()` function, you can tast it by running following cells using different indices (or even your custom miRNA and gene sequences)."
      ],
      "metadata": {
        "id": "hbFrgfrUccEe"
      }
    },
    {
      "cell_type": "code",
      "source": [
        "index = 0\n",
        "print(\"Looking at index:\", index)\n",
        "\n",
        "miRNA = samples['miRNA'][index]\n",
        "gene = samples['gene'][index]\n",
        "\n",
        "align_gene, align_score, align_miRNA = interpret_sample(miRNA, gene)"
      ],
      "metadata": {
        "id": "cc4yk-VOcLcN"
      },
      "execution_count": null,
      "outputs": []
    },
    {
      "cell_type": "code",
      "source": [
        "plot_alignment(align_gene, align_score, align_miRNA)"
      ],
      "metadata": {
        "id": "4_lnZ68XcYZe"
      },
      "execution_count": null,
      "outputs": []
    },
    {
      "cell_type": "code",
      "source": [
        "plotbar_miRNA_importance(align_miRNA, align_score)"
      ],
      "metadata": {
        "id": "kzo1_SQpcaJM"
      },
      "execution_count": null,
      "outputs": []
    }
  ]
}