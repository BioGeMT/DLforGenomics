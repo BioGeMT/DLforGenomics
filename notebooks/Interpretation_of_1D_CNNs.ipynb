{
  "nbformat": 4,
  "nbformat_minor": 0,
  "metadata": {
    "colab": {
      "provenance": [],
      "collapsed_sections": [
        "RdaNSGUUj922"
      ],
      "toc_visible": true,
      "authorship_tag": "ABX9TyOjkPu6dMJIPwboj98FfiWO",
      "include_colab_link": true
    },
    "kernelspec": {
      "name": "python3",
      "display_name": "Python 3"
    },
    "language_info": {
      "name": "python"
    }
  },
  "cells": [
    {
      "cell_type": "markdown",
      "metadata": {
        "id": "view-in-github",
        "colab_type": "text"
      },
      "source": [
        "<a href=\"https://colab.research.google.com/github/BioGeMT/DLforGenomics/blob/main/notebooks/Interpretation_of_1D_CNNs.ipynb\" target=\"_parent\"><img src=\"https://colab.research.google.com/assets/colab-badge.svg\" alt=\"Open In Colab\"/></a>"
      ]
    },
    {
      "cell_type": "markdown",
      "source": [
        "# Setup"
      ],
      "metadata": {
        "id": "Ty_5tbgTiIow"
      }
    },
    {
      "cell_type": "markdown",
      "source": [
        "## Imports"
      ],
      "metadata": {
        "id": "lpAd4_BsiKFp"
      }
    },
    {
      "cell_type": "code",
      "source": [
        "!pip install logomaker\n",
        "!pip install shap"
      ],
      "metadata": {
        "colab": {
          "base_uri": "https://localhost:8080/"
        },
        "id": "n9l4rGNgnhGa",
        "outputId": "27123d97-c0ba-41d8-cc2b-a9d34a38047e"
      },
      "execution_count": 1,
      "outputs": [
        {
          "output_type": "stream",
          "name": "stdout",
          "text": [
            "Collecting logomaker\n",
            "  Downloading logomaker-0.8-py2.py3-none-any.whl (11.8 MB)\n",
            "\u001b[2K     \u001b[90m━━━━━━━━━━━━━━━━━━━━━━━━━━━━━━━━━━━━━━━━\u001b[0m \u001b[32m11.8/11.8 MB\u001b[0m \u001b[31m60.6 MB/s\u001b[0m eta \u001b[36m0:00:00\u001b[0m\n",
            "\u001b[?25hRequirement already satisfied: numpy in /usr/local/lib/python3.10/dist-packages (from logomaker) (1.25.2)\n",
            "Requirement already satisfied: matplotlib in /usr/local/lib/python3.10/dist-packages (from logomaker) (3.7.1)\n",
            "Requirement already satisfied: pandas in /usr/local/lib/python3.10/dist-packages (from logomaker) (2.0.3)\n",
            "Requirement already satisfied: contourpy>=1.0.1 in /usr/local/lib/python3.10/dist-packages (from matplotlib->logomaker) (1.2.1)\n",
            "Requirement already satisfied: cycler>=0.10 in /usr/local/lib/python3.10/dist-packages (from matplotlib->logomaker) (0.12.1)\n",
            "Requirement already satisfied: fonttools>=4.22.0 in /usr/local/lib/python3.10/dist-packages (from matplotlib->logomaker) (4.52.4)\n",
            "Requirement already satisfied: kiwisolver>=1.0.1 in /usr/local/lib/python3.10/dist-packages (from matplotlib->logomaker) (1.4.5)\n",
            "Requirement already satisfied: packaging>=20.0 in /usr/local/lib/python3.10/dist-packages (from matplotlib->logomaker) (24.0)\n",
            "Requirement already satisfied: pillow>=6.2.0 in /usr/local/lib/python3.10/dist-packages (from matplotlib->logomaker) (9.4.0)\n",
            "Requirement already satisfied: pyparsing>=2.3.1 in /usr/local/lib/python3.10/dist-packages (from matplotlib->logomaker) (3.1.2)\n",
            "Requirement already satisfied: python-dateutil>=2.7 in /usr/local/lib/python3.10/dist-packages (from matplotlib->logomaker) (2.8.2)\n",
            "Requirement already satisfied: pytz>=2020.1 in /usr/local/lib/python3.10/dist-packages (from pandas->logomaker) (2023.4)\n",
            "Requirement already satisfied: tzdata>=2022.1 in /usr/local/lib/python3.10/dist-packages (from pandas->logomaker) (2024.1)\n",
            "Requirement already satisfied: six>=1.5 in /usr/local/lib/python3.10/dist-packages (from python-dateutil>=2.7->matplotlib->logomaker) (1.16.0)\n",
            "Installing collected packages: logomaker\n",
            "Successfully installed logomaker-0.8\n",
            "Collecting shap\n",
            "  Downloading shap-0.45.1-cp310-cp310-manylinux_2_12_x86_64.manylinux2010_x86_64.manylinux_2_17_x86_64.manylinux2014_x86_64.whl (540 kB)\n",
            "\u001b[2K     \u001b[90m━━━━━━━━━━━━━━━━━━━━━━━━━━━━━━━━━━━━━━━━\u001b[0m \u001b[32m540.5/540.5 kB\u001b[0m \u001b[31m5.3 MB/s\u001b[0m eta \u001b[36m0:00:00\u001b[0m\n",
            "\u001b[?25hRequirement already satisfied: numpy in /usr/local/lib/python3.10/dist-packages (from shap) (1.25.2)\n",
            "Requirement already satisfied: scipy in /usr/local/lib/python3.10/dist-packages (from shap) (1.11.4)\n",
            "Requirement already satisfied: scikit-learn in /usr/local/lib/python3.10/dist-packages (from shap) (1.2.2)\n",
            "Requirement already satisfied: pandas in /usr/local/lib/python3.10/dist-packages (from shap) (2.0.3)\n",
            "Requirement already satisfied: tqdm>=4.27.0 in /usr/local/lib/python3.10/dist-packages (from shap) (4.66.4)\n",
            "Requirement already satisfied: packaging>20.9 in /usr/local/lib/python3.10/dist-packages (from shap) (24.0)\n",
            "Collecting slicer==0.0.8 (from shap)\n",
            "  Downloading slicer-0.0.8-py3-none-any.whl (15 kB)\n",
            "Requirement already satisfied: numba in /usr/local/lib/python3.10/dist-packages (from shap) (0.58.1)\n",
            "Requirement already satisfied: cloudpickle in /usr/local/lib/python3.10/dist-packages (from shap) (2.2.1)\n",
            "Requirement already satisfied: llvmlite<0.42,>=0.41.0dev0 in /usr/local/lib/python3.10/dist-packages (from numba->shap) (0.41.1)\n",
            "Requirement already satisfied: python-dateutil>=2.8.2 in /usr/local/lib/python3.10/dist-packages (from pandas->shap) (2.8.2)\n",
            "Requirement already satisfied: pytz>=2020.1 in /usr/local/lib/python3.10/dist-packages (from pandas->shap) (2023.4)\n",
            "Requirement already satisfied: tzdata>=2022.1 in /usr/local/lib/python3.10/dist-packages (from pandas->shap) (2024.1)\n",
            "Requirement already satisfied: joblib>=1.1.1 in /usr/local/lib/python3.10/dist-packages (from scikit-learn->shap) (1.4.2)\n",
            "Requirement already satisfied: threadpoolctl>=2.0.0 in /usr/local/lib/python3.10/dist-packages (from scikit-learn->shap) (3.5.0)\n",
            "Requirement already satisfied: six>=1.5 in /usr/local/lib/python3.10/dist-packages (from python-dateutil>=2.8.2->pandas->shap) (1.16.0)\n",
            "Installing collected packages: slicer, shap\n",
            "Successfully installed shap-0.45.1 slicer-0.0.8\n"
          ]
        }
      ]
    },
    {
      "cell_type": "code",
      "source": [
        "from tensorflow import keras as K\n",
        "import tensorflow as tf\n",
        "import pandas as pd\n",
        "import numpy as np\n",
        "import seaborn as sb\n",
        "import matplotlib.pyplot as plt\n",
        "from sklearn.model_selection import train_test_split\n",
        "from sklearn.metrics import accuracy_score, auc, precision_recall_curve, classification_report\n",
        "import logomaker\n",
        "import shap\n",
        "import matplotlib.cm as cm"
      ],
      "metadata": {
        "id": "7jnhc2PeiLzK"
      },
      "execution_count": 2,
      "outputs": []
    },
    {
      "cell_type": "markdown",
      "source": [
        "## Helper functions"
      ],
      "metadata": {
        "id": "RdaNSGUUj922"
      }
    },
    {
      "cell_type": "code",
      "source": [
        "def sequence_to_ohe(\n",
        "        dataset,\n",
        "        sequence_size,\n",
        "        channel={\n",
        "            'A': 0,\n",
        "            'T': 1,\n",
        "            'C': 2,\n",
        "            'G': 3\n",
        "        }\n",
        "):\n",
        "    \"\"\"\n",
        "    fun builds the one hot encoding numpy array of each\n",
        "    sample sequence.\n",
        "\n",
        "    paramenters:\n",
        "    dataset = dataset of sequences to encode\n",
        "    sequence_size = can corresponds to the\n",
        "    length of the input sequences\n",
        "    (if all the same) or an arbitrary number can be defined.\n",
        "    channel = the coding of nucleotides.\n",
        "\n",
        "    \"\"\"\n",
        "\n",
        "    # further processing is expecting list of sequences\n",
        "    if isinstance(dataset, str):\n",
        "        dataset = [dataset]\n",
        "\n",
        "    samples_size = len(dataset)\n",
        "\n",
        "    # structure, where we will hold one-hot encoded dataset\n",
        "    # it is pre-filled with zeros\n",
        "    # we will put 1s in positions of nucleotides\n",
        "    ohe_dataset = np.zeros((samples_size, sequence_size, len(set(channel.values()))))\n",
        "\n",
        "    for index, sequence in enumerate(dataset):\n",
        "        for pos, nucleotide in enumerate(sequence):\n",
        "            if nucleotide == 'N':\n",
        "                continue\n",
        "            ohe_dataset[index, pos, channel[nucleotide]] = 1\n",
        "\n",
        "    return ohe_dataset"
      ],
      "metadata": {
        "id": "8sSilQkAj_hw"
      },
      "execution_count": 3,
      "outputs": []
    },
    {
      "cell_type": "code",
      "source": [
        "def encode_dataset_ohe(df, seq_col, label_col):\n",
        "\n",
        "    # do not forget to shuffle your data so every batch will contain both positive and negative samples\n",
        "    df = df.sample(frac=1, random_state=42)\n",
        "    df.reset_index(inplace=True, drop=True)\n",
        "\n",
        "    max_length = df[seq_col].map(len).max()\n",
        "    ohe_samples = sequence_to_ohe(df[seq_col], max_length)\n",
        "    labels = df[label_col]\n",
        "\n",
        "    if ohe_samples.shape[0] != labels.shape[0]:\n",
        "        print('sequence and label shapes are different, something went wrong...')\n",
        "\n",
        "    print(\n",
        "        'samples',\n",
        "        ohe_samples.shape,\n",
        "        '\\nlabels',\n",
        "        labels.shape\n",
        "    )\n",
        "\n",
        "    return ohe_samples, labels"
      ],
      "metadata": {
        "id": "1H1I0qbhkCr2"
      },
      "execution_count": 4,
      "outputs": []
    },
    {
      "cell_type": "markdown",
      "source": [
        "## Downloads"
      ],
      "metadata": {
        "id": "Q0jFliBXiMOe"
      }
    },
    {
      "cell_type": "code",
      "source": [
        "!wget https://github.com/BioGeMT/DLforGenomics/raw/main/models/1d_cnn.keras\n",
        "!wget https://raw.githubusercontent.com/BioGeMT/DLforGenomics/main/data/Helwak_2013/one_miRNA/miRNA_train_set.tsv -O one_miRNA_train_set.tsv"
      ],
      "metadata": {
        "colab": {
          "base_uri": "https://localhost:8080/"
        },
        "id": "48c-G95SiAsh",
        "outputId": "82f2193d-47cf-43e2-84e7-506de734a72c"
      },
      "execution_count": 5,
      "outputs": [
        {
          "output_type": "stream",
          "name": "stdout",
          "text": [
            "--2024-06-04 19:02:12--  https://github.com/BioGeMT/DLforGenomics/raw/main/models/1d_cnn.keras\n",
            "Resolving github.com (github.com)... 20.27.177.113\n",
            "Connecting to github.com (github.com)|20.27.177.113|:443... connected.\n",
            "HTTP request sent, awaiting response... 302 Found\n",
            "Location: https://raw.githubusercontent.com/BioGeMT/DLforGenomics/main/models/1d_cnn.keras [following]\n",
            "--2024-06-04 19:02:13--  https://raw.githubusercontent.com/BioGeMT/DLforGenomics/main/models/1d_cnn.keras\n",
            "Resolving raw.githubusercontent.com (raw.githubusercontent.com)... 185.199.108.133, 185.199.109.133, 185.199.110.133, ...\n",
            "Connecting to raw.githubusercontent.com (raw.githubusercontent.com)|185.199.108.133|:443... connected.\n",
            "HTTP request sent, awaiting response... 200 OK\n",
            "Length: 44830 (44K) [application/octet-stream]\n",
            "Saving to: ‘1d_cnn.keras’\n",
            "\n",
            "1d_cnn.keras        100%[===================>]  43.78K  --.-KB/s    in 0.04s   \n",
            "\n",
            "2024-06-04 19:02:13 (1.10 MB/s) - ‘1d_cnn.keras’ saved [44830/44830]\n",
            "\n",
            "--2024-06-04 19:02:13--  https://raw.githubusercontent.com/BioGeMT/DLforGenomics/main/data/Helwak_2013/one_miRNA/miRNA_train_set.tsv\n",
            "Resolving raw.githubusercontent.com (raw.githubusercontent.com)... 185.199.108.133, 185.199.109.133, 185.199.110.133, ...\n",
            "Connecting to raw.githubusercontent.com (raw.githubusercontent.com)|185.199.108.133|:443... connected.\n",
            "HTTP request sent, awaiting response... 200 OK\n",
            "Length: 101082 (99K) [text/plain]\n",
            "Saving to: ‘one_miRNA_train_set.tsv’\n",
            "\n",
            "one_miRNA_train_set 100%[===================>]  98.71K  --.-KB/s    in 0.08s   \n",
            "\n",
            "2024-06-04 19:02:14 (1.22 MB/s) - ‘one_miRNA_train_set.tsv’ saved [101082/101082]\n",
            "\n"
          ]
        }
      ]
    },
    {
      "cell_type": "markdown",
      "source": [
        "# Data preparation"
      ],
      "metadata": {
        "id": "vqCObcbNkJwR"
      }
    },
    {
      "cell_type": "code",
      "source": [
        "df = pd.read_csv('one_miRNA_train_set.tsv', sep='\\t')\n",
        "df"
      ],
      "metadata": {
        "colab": {
          "base_uri": "https://localhost:8080/",
          "height": 424
        },
        "id": "gTUZfoywkLVZ",
        "outputId": "cce35e62-b0b3-4230-db66-a9d1dfb6a69f"
      },
      "execution_count": 6,
      "outputs": [
        {
          "output_type": "execute_result",
          "data": {
            "text/plain": [
              "                                                   gene  label\n",
              "0     AGCACTGCCGCCGGGGACTGCTCAGCAACCACACCGGCAGCCCGCG...      1\n",
              "1     CTTCTCGGAGACGGTGCGCATCATCAACCGCAAGGTGAAGCCGCGG...      1\n",
              "2     GGGCTGGGCAAAGAATGTGCAAAAGTCTTCTATGCTGCGGGTGCTA...      1\n",
              "3     TCCACTAGAAGGCTGGGACAGCACCGGTGATTACTGTCTTTCCTGC...      1\n",
              "4     AGTTCACAGGCTTTGTGGACATGTGTGTGCAGCATATCCCTTCTCC...      1\n",
              "...                                                 ...    ...\n",
              "1902  TCTAAGCCATCCAGTGCCATCCTCGTCGCTGCAGCGACACACGCTC...      0\n",
              "1903  AACCACGTCTCCTACTTTCCAAACCCATGGCAGTGTCCCTGCTCCA...      0\n",
              "1904  ATTGAAGCCTGCCCATCCTCCCATGAGAGACTCTTGTTAGTCAACA...      0\n",
              "1905  GCCAGCCCTACACTCGCCCGCGCCATGGCCTCTGTCTCCGAGCTCG...      0\n",
              "1906  AGGGATTTTTGGGGAGCAAGGGTAGCCAATGGCAGAGGGGGTTGGG...      0\n",
              "\n",
              "[1907 rows x 2 columns]"
            ],
            "text/html": [
              "\n",
              "  <div id=\"df-4cb5f23e-a298-463e-ad2c-50d13cb39da4\" class=\"colab-df-container\">\n",
              "    <div>\n",
              "<style scoped>\n",
              "    .dataframe tbody tr th:only-of-type {\n",
              "        vertical-align: middle;\n",
              "    }\n",
              "\n",
              "    .dataframe tbody tr th {\n",
              "        vertical-align: top;\n",
              "    }\n",
              "\n",
              "    .dataframe thead th {\n",
              "        text-align: right;\n",
              "    }\n",
              "</style>\n",
              "<table border=\"1\" class=\"dataframe\">\n",
              "  <thead>\n",
              "    <tr style=\"text-align: right;\">\n",
              "      <th></th>\n",
              "      <th>gene</th>\n",
              "      <th>label</th>\n",
              "    </tr>\n",
              "  </thead>\n",
              "  <tbody>\n",
              "    <tr>\n",
              "      <th>0</th>\n",
              "      <td>AGCACTGCCGCCGGGGACTGCTCAGCAACCACACCGGCAGCCCGCG...</td>\n",
              "      <td>1</td>\n",
              "    </tr>\n",
              "    <tr>\n",
              "      <th>1</th>\n",
              "      <td>CTTCTCGGAGACGGTGCGCATCATCAACCGCAAGGTGAAGCCGCGG...</td>\n",
              "      <td>1</td>\n",
              "    </tr>\n",
              "    <tr>\n",
              "      <th>2</th>\n",
              "      <td>GGGCTGGGCAAAGAATGTGCAAAAGTCTTCTATGCTGCGGGTGCTA...</td>\n",
              "      <td>1</td>\n",
              "    </tr>\n",
              "    <tr>\n",
              "      <th>3</th>\n",
              "      <td>TCCACTAGAAGGCTGGGACAGCACCGGTGATTACTGTCTTTCCTGC...</td>\n",
              "      <td>1</td>\n",
              "    </tr>\n",
              "    <tr>\n",
              "      <th>4</th>\n",
              "      <td>AGTTCACAGGCTTTGTGGACATGTGTGTGCAGCATATCCCTTCTCC...</td>\n",
              "      <td>1</td>\n",
              "    </tr>\n",
              "    <tr>\n",
              "      <th>...</th>\n",
              "      <td>...</td>\n",
              "      <td>...</td>\n",
              "    </tr>\n",
              "    <tr>\n",
              "      <th>1902</th>\n",
              "      <td>TCTAAGCCATCCAGTGCCATCCTCGTCGCTGCAGCGACACACGCTC...</td>\n",
              "      <td>0</td>\n",
              "    </tr>\n",
              "    <tr>\n",
              "      <th>1903</th>\n",
              "      <td>AACCACGTCTCCTACTTTCCAAACCCATGGCAGTGTCCCTGCTCCA...</td>\n",
              "      <td>0</td>\n",
              "    </tr>\n",
              "    <tr>\n",
              "      <th>1904</th>\n",
              "      <td>ATTGAAGCCTGCCCATCCTCCCATGAGAGACTCTTGTTAGTCAACA...</td>\n",
              "      <td>0</td>\n",
              "    </tr>\n",
              "    <tr>\n",
              "      <th>1905</th>\n",
              "      <td>GCCAGCCCTACACTCGCCCGCGCCATGGCCTCTGTCTCCGAGCTCG...</td>\n",
              "      <td>0</td>\n",
              "    </tr>\n",
              "    <tr>\n",
              "      <th>1906</th>\n",
              "      <td>AGGGATTTTTGGGGAGCAAGGGTAGCCAATGGCAGAGGGGGTTGGG...</td>\n",
              "      <td>0</td>\n",
              "    </tr>\n",
              "  </tbody>\n",
              "</table>\n",
              "<p>1907 rows × 2 columns</p>\n",
              "</div>\n",
              "    <div class=\"colab-df-buttons\">\n",
              "\n",
              "  <div class=\"colab-df-container\">\n",
              "    <button class=\"colab-df-convert\" onclick=\"convertToInteractive('df-4cb5f23e-a298-463e-ad2c-50d13cb39da4')\"\n",
              "            title=\"Convert this dataframe to an interactive table.\"\n",
              "            style=\"display:none;\">\n",
              "\n",
              "  <svg xmlns=\"http://www.w3.org/2000/svg\" height=\"24px\" viewBox=\"0 -960 960 960\">\n",
              "    <path d=\"M120-120v-720h720v720H120Zm60-500h600v-160H180v160Zm220 220h160v-160H400v160Zm0 220h160v-160H400v160ZM180-400h160v-160H180v160Zm440 0h160v-160H620v160ZM180-180h160v-160H180v160Zm440 0h160v-160H620v160Z\"/>\n",
              "  </svg>\n",
              "    </button>\n",
              "\n",
              "  <style>\n",
              "    .colab-df-container {\n",
              "      display:flex;\n",
              "      gap: 12px;\n",
              "    }\n",
              "\n",
              "    .colab-df-convert {\n",
              "      background-color: #E8F0FE;\n",
              "      border: none;\n",
              "      border-radius: 50%;\n",
              "      cursor: pointer;\n",
              "      display: none;\n",
              "      fill: #1967D2;\n",
              "      height: 32px;\n",
              "      padding: 0 0 0 0;\n",
              "      width: 32px;\n",
              "    }\n",
              "\n",
              "    .colab-df-convert:hover {\n",
              "      background-color: #E2EBFA;\n",
              "      box-shadow: 0px 1px 2px rgba(60, 64, 67, 0.3), 0px 1px 3px 1px rgba(60, 64, 67, 0.15);\n",
              "      fill: #174EA6;\n",
              "    }\n",
              "\n",
              "    .colab-df-buttons div {\n",
              "      margin-bottom: 4px;\n",
              "    }\n",
              "\n",
              "    [theme=dark] .colab-df-convert {\n",
              "      background-color: #3B4455;\n",
              "      fill: #D2E3FC;\n",
              "    }\n",
              "\n",
              "    [theme=dark] .colab-df-convert:hover {\n",
              "      background-color: #434B5C;\n",
              "      box-shadow: 0px 1px 3px 1px rgba(0, 0, 0, 0.15);\n",
              "      filter: drop-shadow(0px 1px 2px rgba(0, 0, 0, 0.3));\n",
              "      fill: #FFFFFF;\n",
              "    }\n",
              "  </style>\n",
              "\n",
              "    <script>\n",
              "      const buttonEl =\n",
              "        document.querySelector('#df-4cb5f23e-a298-463e-ad2c-50d13cb39da4 button.colab-df-convert');\n",
              "      buttonEl.style.display =\n",
              "        google.colab.kernel.accessAllowed ? 'block' : 'none';\n",
              "\n",
              "      async function convertToInteractive(key) {\n",
              "        const element = document.querySelector('#df-4cb5f23e-a298-463e-ad2c-50d13cb39da4');\n",
              "        const dataTable =\n",
              "          await google.colab.kernel.invokeFunction('convertToInteractive',\n",
              "                                                    [key], {});\n",
              "        if (!dataTable) return;\n",
              "\n",
              "        const docLinkHtml = 'Like what you see? Visit the ' +\n",
              "          '<a target=\"_blank\" href=https://colab.research.google.com/notebooks/data_table.ipynb>data table notebook</a>'\n",
              "          + ' to learn more about interactive tables.';\n",
              "        element.innerHTML = '';\n",
              "        dataTable['output_type'] = 'display_data';\n",
              "        await google.colab.output.renderOutput(dataTable, element);\n",
              "        const docLink = document.createElement('div');\n",
              "        docLink.innerHTML = docLinkHtml;\n",
              "        element.appendChild(docLink);\n",
              "      }\n",
              "    </script>\n",
              "  </div>\n",
              "\n",
              "\n",
              "<div id=\"df-4b3bef27-be70-40f1-ad7d-be39f1a015fc\">\n",
              "  <button class=\"colab-df-quickchart\" onclick=\"quickchart('df-4b3bef27-be70-40f1-ad7d-be39f1a015fc')\"\n",
              "            title=\"Suggest charts\"\n",
              "            style=\"display:none;\">\n",
              "\n",
              "<svg xmlns=\"http://www.w3.org/2000/svg\" height=\"24px\"viewBox=\"0 0 24 24\"\n",
              "     width=\"24px\">\n",
              "    <g>\n",
              "        <path d=\"M19 3H5c-1.1 0-2 .9-2 2v14c0 1.1.9 2 2 2h14c1.1 0 2-.9 2-2V5c0-1.1-.9-2-2-2zM9 17H7v-7h2v7zm4 0h-2V7h2v10zm4 0h-2v-4h2v4z\"/>\n",
              "    </g>\n",
              "</svg>\n",
              "  </button>\n",
              "\n",
              "<style>\n",
              "  .colab-df-quickchart {\n",
              "      --bg-color: #E8F0FE;\n",
              "      --fill-color: #1967D2;\n",
              "      --hover-bg-color: #E2EBFA;\n",
              "      --hover-fill-color: #174EA6;\n",
              "      --disabled-fill-color: #AAA;\n",
              "      --disabled-bg-color: #DDD;\n",
              "  }\n",
              "\n",
              "  [theme=dark] .colab-df-quickchart {\n",
              "      --bg-color: #3B4455;\n",
              "      --fill-color: #D2E3FC;\n",
              "      --hover-bg-color: #434B5C;\n",
              "      --hover-fill-color: #FFFFFF;\n",
              "      --disabled-bg-color: #3B4455;\n",
              "      --disabled-fill-color: #666;\n",
              "  }\n",
              "\n",
              "  .colab-df-quickchart {\n",
              "    background-color: var(--bg-color);\n",
              "    border: none;\n",
              "    border-radius: 50%;\n",
              "    cursor: pointer;\n",
              "    display: none;\n",
              "    fill: var(--fill-color);\n",
              "    height: 32px;\n",
              "    padding: 0;\n",
              "    width: 32px;\n",
              "  }\n",
              "\n",
              "  .colab-df-quickchart:hover {\n",
              "    background-color: var(--hover-bg-color);\n",
              "    box-shadow: 0 1px 2px rgba(60, 64, 67, 0.3), 0 1px 3px 1px rgba(60, 64, 67, 0.15);\n",
              "    fill: var(--button-hover-fill-color);\n",
              "  }\n",
              "\n",
              "  .colab-df-quickchart-complete:disabled,\n",
              "  .colab-df-quickchart-complete:disabled:hover {\n",
              "    background-color: var(--disabled-bg-color);\n",
              "    fill: var(--disabled-fill-color);\n",
              "    box-shadow: none;\n",
              "  }\n",
              "\n",
              "  .colab-df-spinner {\n",
              "    border: 2px solid var(--fill-color);\n",
              "    border-color: transparent;\n",
              "    border-bottom-color: var(--fill-color);\n",
              "    animation:\n",
              "      spin 1s steps(1) infinite;\n",
              "  }\n",
              "\n",
              "  @keyframes spin {\n",
              "    0% {\n",
              "      border-color: transparent;\n",
              "      border-bottom-color: var(--fill-color);\n",
              "      border-left-color: var(--fill-color);\n",
              "    }\n",
              "    20% {\n",
              "      border-color: transparent;\n",
              "      border-left-color: var(--fill-color);\n",
              "      border-top-color: var(--fill-color);\n",
              "    }\n",
              "    30% {\n",
              "      border-color: transparent;\n",
              "      border-left-color: var(--fill-color);\n",
              "      border-top-color: var(--fill-color);\n",
              "      border-right-color: var(--fill-color);\n",
              "    }\n",
              "    40% {\n",
              "      border-color: transparent;\n",
              "      border-right-color: var(--fill-color);\n",
              "      border-top-color: var(--fill-color);\n",
              "    }\n",
              "    60% {\n",
              "      border-color: transparent;\n",
              "      border-right-color: var(--fill-color);\n",
              "    }\n",
              "    80% {\n",
              "      border-color: transparent;\n",
              "      border-right-color: var(--fill-color);\n",
              "      border-bottom-color: var(--fill-color);\n",
              "    }\n",
              "    90% {\n",
              "      border-color: transparent;\n",
              "      border-bottom-color: var(--fill-color);\n",
              "    }\n",
              "  }\n",
              "</style>\n",
              "\n",
              "  <script>\n",
              "    async function quickchart(key) {\n",
              "      const quickchartButtonEl =\n",
              "        document.querySelector('#' + key + ' button');\n",
              "      quickchartButtonEl.disabled = true;  // To prevent multiple clicks.\n",
              "      quickchartButtonEl.classList.add('colab-df-spinner');\n",
              "      try {\n",
              "        const charts = await google.colab.kernel.invokeFunction(\n",
              "            'suggestCharts', [key], {});\n",
              "      } catch (error) {\n",
              "        console.error('Error during call to suggestCharts:', error);\n",
              "      }\n",
              "      quickchartButtonEl.classList.remove('colab-df-spinner');\n",
              "      quickchartButtonEl.classList.add('colab-df-quickchart-complete');\n",
              "    }\n",
              "    (() => {\n",
              "      let quickchartButtonEl =\n",
              "        document.querySelector('#df-4b3bef27-be70-40f1-ad7d-be39f1a015fc button');\n",
              "      quickchartButtonEl.style.display =\n",
              "        google.colab.kernel.accessAllowed ? 'block' : 'none';\n",
              "    })();\n",
              "  </script>\n",
              "</div>\n",
              "    </div>\n",
              "  </div>\n"
            ],
            "application/vnd.google.colaboratory.intrinsic+json": {
              "type": "dataframe",
              "variable_name": "df",
              "summary": "{\n  \"name\": \"df\",\n  \"rows\": 1907,\n  \"fields\": [\n    {\n      \"column\": \"gene\",\n      \"properties\": {\n        \"dtype\": \"string\",\n        \"num_unique_values\": 1907,\n        \"samples\": [\n          \"TGCCCCAACTAAATACTACCGTATGGCCCACCATAATTACCCCCATACTC\",\n          \"GTGTGGGGACGGTGCTGGCCAGCAGACCGCACACGCTAGATGGCCGAAAC\",\n          \"GCCACTGAACTCCAACCTGGGCGACAGAGACTCTGTCTCAAAAAAAAAGA\"\n        ],\n        \"semantic_type\": \"\",\n        \"description\": \"\"\n      }\n    },\n    {\n      \"column\": \"label\",\n      \"properties\": {\n        \"dtype\": \"number\",\n        \"std\": 0,\n        \"min\": 0,\n        \"max\": 1,\n        \"num_unique_values\": 2,\n        \"samples\": [\n          0,\n          1\n        ],\n        \"semantic_type\": \"\",\n        \"description\": \"\"\n      }\n    }\n  ]\n}"
            }
          },
          "metadata": {},
          "execution_count": 6
        }
      ]
    },
    {
      "cell_type": "code",
      "source": [
        "gene_col = 'gene'\n",
        "label_col = 'label'\n",
        "\n",
        "samples_ohe, labels = encode_dataset_ohe(df, gene_col, label_col)"
      ],
      "metadata": {
        "colab": {
          "base_uri": "https://localhost:8080/"
        },
        "id": "dlUUMcYTkQ7V",
        "outputId": "e27dbcab-b30b-4c3d-c52d-2eafe5489580"
      },
      "execution_count": 7,
      "outputs": [
        {
          "output_type": "stream",
          "name": "stdout",
          "text": [
            "samples (1907, 50, 4) \n",
            "labels (1907,)\n"
          ]
        }
      ]
    },
    {
      "cell_type": "code",
      "source": [
        "X_train, X_test, y_train, y_test = train_test_split(\n",
        "        samples_ohe, labels, test_size=0.1, random_state=42)\n",
        "\n",
        "print(\"X_train:\", X_train.shape)\n",
        "print(\"y_train:\", y_train.shape)\n",
        "print(\"X_test:\", X_test.shape)\n",
        "print(\"y_test:\", y_test.shape)"
      ],
      "metadata": {
        "colab": {
          "base_uri": "https://localhost:8080/"
        },
        "id": "6f1M6SeDkr3m",
        "outputId": "7a59a96e-43f9-4385-d2b1-2dcd49417510"
      },
      "execution_count": 8,
      "outputs": [
        {
          "output_type": "stream",
          "name": "stdout",
          "text": [
            "X_train: (1716, 50, 4)\n",
            "y_train: (1716,)\n",
            "X_test: (191, 50, 4)\n",
            "y_test: (191,)\n"
          ]
        }
      ]
    },
    {
      "cell_type": "markdown",
      "source": [
        "# Loading trained model"
      ],
      "metadata": {
        "id": "W5guCCe7knZm"
      }
    },
    {
      "cell_type": "code",
      "execution_count": 9,
      "metadata": {
        "colab": {
          "base_uri": "https://localhost:8080/"
        },
        "id": "XMKF1KE0_6HP",
        "outputId": "5d467771-b73c-4c39-912d-e61f6f344389"
      },
      "outputs": [
        {
          "output_type": "stream",
          "name": "stdout",
          "text": [
            "Model: \"sequential_16\"\n",
            "_________________________________________________________________\n",
            " Layer (type)                Output Shape              Param #   \n",
            "=================================================================\n",
            " conv1d_43 (Conv1D)          (None, 50, 20)            500       \n",
            "                                                                 \n",
            " conv1d_44 (Conv1D)          (None, 50, 5)             605       \n",
            "                                                                 \n",
            " flatten_16 (Flatten)        (None, 250)               0         \n",
            "                                                                 \n",
            " dense_27 (Dense)            (None, 1)                 251       \n",
            "                                                                 \n",
            "=================================================================\n",
            "Total params: 1356 (5.30 KB)\n",
            "Trainable params: 1356 (5.30 KB)\n",
            "Non-trainable params: 0 (0.00 Byte)\n",
            "_________________________________________________________________\n"
          ]
        }
      ],
      "source": [
        "model = K.models.load_model(\"1d_cnn.keras\")\n",
        "model.summary()"
      ]
    },
    {
      "cell_type": "code",
      "source": [
        "probs = model.predict(X_test)\n",
        "preds = [0 if prob < 0.5 else 1 for prob in probs]\n",
        "\n",
        "accuracy = accuracy_score(y_test, preds)\n",
        "report = classification_report(y_test, preds)\n",
        "\n",
        "print(f'Accuracy: {accuracy}')\n",
        "print('Classification Report:')\n",
        "print(report)"
      ],
      "metadata": {
        "colab": {
          "base_uri": "https://localhost:8080/"
        },
        "id": "wogO4yFDlBUL",
        "outputId": "71037e9e-3f21-496b-8267-4f869b9b1e0c"
      },
      "execution_count": 10,
      "outputs": [
        {
          "output_type": "stream",
          "name": "stdout",
          "text": [
            "6/6 [==============================] - 0s 3ms/step\n",
            "Accuracy: 0.7958115183246073\n",
            "Classification Report:\n",
            "              precision    recall  f1-score   support\n",
            "\n",
            "           0       0.78      0.87      0.82       104\n",
            "           1       0.82      0.71      0.76        87\n",
            "\n",
            "    accuracy                           0.80       191\n",
            "   macro avg       0.80      0.79      0.79       191\n",
            "weighted avg       0.80      0.80      0.79       191\n",
            "\n"
          ]
        }
      ]
    },
    {
      "cell_type": "markdown",
      "source": [
        "# Looking at kernel weights"
      ],
      "metadata": {
        "id": "S3Fs9a7cku_V"
      }
    },
    {
      "cell_type": "markdown",
      "source": [
        "We can access weight of kernels by going into layers of a model -> `model.layers`. If we want to select a first convolutional layer, we select it from a list of layers -> `model.layers[0]`. From there we can access weights -> `model.layers[0].weights`. This contains array with two elements - weigts and biases. We care about weights -> `model.layers[0].weights[0]`.\n",
        "\n",
        "Shape of the result is `(6, 4, 20)`, where:\n",
        "- the first dimension is size of kernel,\n",
        "- the second dimension is number of channels in the input (this layer works with one-hot-encoded input with 4 channels), and\n",
        "- the third dimension is number of kernels."
      ],
      "metadata": {
        "id": "Gwt6_CqPn-u0"
      }
    },
    {
      "cell_type": "code",
      "source": [
        "model.layers[0].weights[0]"
      ],
      "metadata": {
        "colab": {
          "base_uri": "https://localhost:8080/"
        },
        "id": "3tB02m5Wjs6t",
        "outputId": "60d397c5-ad87-4a4e-95cc-a440db542f42"
      },
      "execution_count": 12,
      "outputs": [
        {
          "output_type": "execute_result",
          "data": {
            "text/plain": [
              "<tf.Variable 'conv1d_43/kernel:0' shape=(6, 4, 20) dtype=float32, numpy=\n",
              "array([[[-0.19722553,  0.06156438,  0.00201262, -0.10203239,\n",
              "         -0.02650327,  0.06032303,  0.03760119,  0.09308615,\n",
              "          0.01064024, -0.18900448,  0.18199101, -0.08566309,\n",
              "          0.20105536,  0.13690536,  0.10771491,  0.19041531,\n",
              "          0.04947331, -0.07754385,  0.19983532, -0.07260861],\n",
              "        [-0.06569018, -0.07942016,  0.08779016, -0.12295545,\n",
              "         -0.20891695,  0.01279801, -0.01871619, -0.1741693 ,\n",
              "         -0.32577282, -0.18320364,  0.23309378,  0.0665154 ,\n",
              "         -0.2706077 ,  0.08927537, -0.26263374,  0.1302925 ,\n",
              "         -0.10736443, -0.09130286,  0.06656472, -0.12818724],\n",
              "        [-0.05074413,  0.21205407,  0.04456031,  0.13275819,\n",
              "         -0.09625515,  0.3021955 ,  0.1963361 ,  0.2325671 ,\n",
              "          0.16773543, -0.05618573,  0.11674123,  0.07856485,\n",
              "         -0.00575244,  0.08130953, -0.06902962, -0.04740126,\n",
              "         -0.16196221, -0.42223755, -0.15251093, -0.16829196],\n",
              "        [ 0.1449252 , -0.01129773,  0.11801627,  0.18283716,\n",
              "         -0.10413438,  0.05968069, -0.16061008,  0.06050929,\n",
              "         -0.12182578, -0.00214448, -0.33002687, -0.01705357,\n",
              "          0.194281  , -0.18238465,  0.0713516 , -0.08846922,\n",
              "          0.01954693,  0.16930543, -0.03277061,  0.21567926]],\n",
              "\n",
              "       [[-0.05400767, -0.02969652, -0.22792785, -0.01052039,\n",
              "          0.21636572,  0.06922822, -0.18736476,  0.1490999 ,\n",
              "         -0.03517423,  0.07737772,  0.18620361, -0.34082648,\n",
              "         -0.04816022,  0.05414106,  0.17312054, -0.00528955,\n",
              "          0.20979789, -0.01500754, -0.25572008, -0.0677201 ],\n",
              "        [ 0.03008466, -0.23847955, -0.14721774,  0.00331019,\n",
              "          0.23762356,  0.21115825,  0.07009526,  0.13986288,\n",
              "          0.01077308,  0.09481832,  0.02258348,  0.10548393,\n",
              "          0.08615529,  0.0906544 ,  0.130764  , -0.0451513 ,\n",
              "         -0.1110237 , -0.29699767,  0.05116403,  0.23258808],\n",
              "        [ 0.17066227,  0.18329625,  0.04138142,  0.16543844,\n",
              "         -0.35581595,  0.25831765,  0.26471573,  0.0261551 ,\n",
              "         -0.40206182, -0.19839671,  0.01749681,  0.03052456,\n",
              "         -0.10160249,  0.19157273,  0.07983142, -0.26584736,\n",
              "         -0.30599642, -0.2768906 , -0.06755196, -0.16260317],\n",
              "        [ 0.1806593 ,  0.09107557,  0.03686966, -0.02035949,\n",
              "          0.05535868, -0.10902154, -0.05200818,  0.3273115 ,\n",
              "          0.11109373,  0.16636461,  0.02310512,  0.12366005,\n",
              "          0.10054162,  0.08306234, -0.18313478,  0.16444317,\n",
              "          0.02962029, -0.10468706,  0.2673674 ,  0.03514823]],\n",
              "\n",
              "       [[ 0.13233225,  0.10212382, -0.22483823,  0.15742427,\n",
              "          0.086721  , -0.20763288, -0.02978962,  0.06476264,\n",
              "         -0.04436588,  0.07685416, -0.21026509, -0.09457859,\n",
              "          0.15679853, -0.21398632,  0.0173261 ,  0.23234184,\n",
              "          0.08863091,  0.19760704, -0.09454463,  0.1813183 ],\n",
              "        [-0.24780999,  0.1459532 ,  0.19078872,  0.13287008,\n",
              "          0.20920596, -0.0112279 ,  0.09290417, -0.14096832,\n",
              "          0.13925411,  0.08595487, -0.2983461 ,  0.00622447,\n",
              "          0.02944409, -0.14570723, -0.13100955, -0.23704833,\n",
              "          0.0450722 , -0.36322838, -0.00082822,  0.08395582],\n",
              "        [-0.0486766 , -0.08169056,  0.03917682,  0.04625253,\n",
              "          0.01746503,  0.18394004,  0.30357227,  0.13511375,\n",
              "         -0.22119264,  0.08862945,  0.16050397,  0.17573239,\n",
              "          0.28506482, -0.08726448,  0.04027133,  0.08341789,\n",
              "         -0.2734402 , -0.37230888, -0.12554114, -0.0470495 ],\n",
              "        [-0.08184166, -0.14959338, -0.35247585, -0.2541939 ,\n",
              "         -0.25323474, -0.28513032, -0.13851105,  0.07308365,\n",
              "         -0.00794765, -0.09902526,  0.15471639,  0.09893443,\n",
              "         -0.10430516,  0.28884122,  0.01973332,  0.28310904,\n",
              "          0.0007431 ,  0.2723163 ,  0.19454166,  0.14097434]],\n",
              "\n",
              "       [[ 0.0165442 , -0.08437441,  0.12311219, -0.15022616,\n",
              "          0.01946898,  0.16685486,  0.05959713, -0.01275645,\n",
              "         -0.21658553, -0.00132821,  0.06160858, -0.22667593,\n",
              "         -0.03595612,  0.16020346, -0.02545021,  0.12571202,\n",
              "         -0.16785797, -0.33099782,  0.17851876, -0.03190424],\n",
              "        [-0.2586504 ,  0.14791645,  0.01975197,  0.04283842,\n",
              "          0.16898057,  0.00442772,  0.09244902, -0.0617263 ,\n",
              "         -0.23198177,  0.06927079,  0.19682114, -0.12595418,\n",
              "          0.02285661, -0.19945733,  0.17772159,  0.02694434,\n",
              "         -0.14979368, -0.02497791, -0.06479866, -0.21633416],\n",
              "        [-0.01629611,  0.04568806, -0.24263488,  0.07222804,\n",
              "          0.04221315,  0.1597187 ,  0.20387559, -0.02801606,\n",
              "          0.2778205 ,  0.04549745,  0.06494523,  0.21064685,\n",
              "          0.05033974, -0.00854928,  0.1066165 ,  0.18924208,\n",
              "         -0.24921943, -0.4572008 , -0.13069564, -0.00319104],\n",
              "        [ 0.02625445,  0.05375468,  0.1592232 , -0.04653412,\n",
              "         -0.14868829, -0.25985208, -0.3198373 ,  0.01060142,\n",
              "          0.04980252, -0.17390569, -0.12869678, -0.04279896,\n",
              "          0.16710764,  0.06573199,  0.21125297, -0.28111422,\n",
              "          0.21462256,  0.19409628, -0.04378416,  0.28705716]],\n",
              "\n",
              "       [[ 0.0907452 ,  0.08764248,  0.11864319, -0.31318423,\n",
              "         -0.06357162,  0.05386561,  0.03597363,  0.08678825,\n",
              "          0.04536624,  0.21686807, -0.16024438,  0.10532812,\n",
              "         -0.01220319, -0.04607061,  0.01470181, -0.08245288,\n",
              "          0.01672527, -0.05948962, -0.09785878, -0.04694618],\n",
              "        [-0.01074786,  0.15899134, -0.03026073,  0.26057357,\n",
              "          0.11377895, -0.11083221,  0.05320498, -0.1227931 ,\n",
              "         -0.17561445,  0.14711767,  0.22460659, -0.22938794,\n",
              "          0.02834881,  0.01802004, -0.06300529,  0.04671956,\n",
              "         -0.00717032, -0.26922998,  0.2760047 ,  0.05119798],\n",
              "        [-0.01050037, -0.3264211 ,  0.28687003,  0.05608826,\n",
              "          0.21372658,  0.15583925,  0.29254285, -0.19460578,\n",
              "          0.19933225, -0.26481837, -0.10672935,  0.08996882,\n",
              "          0.03793398, -0.23128383, -0.211945  ,  0.18733968,\n",
              "         -0.1975709 , -0.14456296, -0.43305555,  0.27161554],\n",
              "        [ 0.19432488,  0.23118672,  0.18729594, -0.2381175 ,\n",
              "         -0.17221262,  0.06459116,  0.03069642, -0.17439936,\n",
              "         -0.09236634, -0.08290674,  0.04694135, -0.00157891,\n",
              "         -0.00915841,  0.19531514,  0.24617724, -0.03201819,\n",
              "          0.1468542 ,  0.05055385,  0.11403802, -0.03435774]],\n",
              "\n",
              "       [[-0.02163266, -0.2534802 , -0.07004788,  0.2677011 ,\n",
              "          0.09459577,  0.20877483, -0.06863637, -0.0393098 ,\n",
              "          0.1374807 , -0.05683876, -0.26815867,  0.18394105,\n",
              "         -0.1804444 , -0.03981003, -0.17560892,  0.1422861 ,\n",
              "          0.09178168,  0.11091991, -0.19638568,  0.11851434],\n",
              "        [ 0.04800315,  0.296744  , -0.30540898,  0.10765855,\n",
              "          0.14966677,  0.00350882, -0.10993437, -0.18839332,\n",
              "         -0.11021236,  0.26674294, -0.01235567, -0.17467958,\n",
              "         -0.05642628,  0.15044819,  0.00736744,  0.10594479,\n",
              "         -0.2586456 ,  0.12685274, -0.1856958 , -0.24610747],\n",
              "        [-0.26773295,  0.07869434,  0.07759146, -0.10764904,\n",
              "         -0.23475274,  0.2576054 , -0.02258435,  0.06136926,\n",
              "         -0.0911007 ,  0.16757965, -0.24369395, -0.13608901,\n",
              "          0.27817377,  0.10818905,  0.02503142, -0.28022113,\n",
              "         -0.15536042, -0.26151994, -0.09916436,  0.16140349],\n",
              "        [-0.01770099, -0.08431245,  0.06255056, -0.09541053,\n",
              "         -0.03918543, -0.31122038, -0.1539435 ,  0.20459521,\n",
              "          0.08291244,  0.02398416,  0.18550445,  0.11586896,\n",
              "          0.1559178 ,  0.15628469,  0.18580578,  0.07977971,\n",
              "          0.19107369,  0.19871263, -0.10769495,  0.05220146]]],\n",
              "      dtype=float32)>"
            ]
          },
          "metadata": {},
          "execution_count": 12
        }
      ]
    },
    {
      "cell_type": "markdown",
      "source": [
        "To access the first kernel, we can do the `[:, :, 0]` operation.\n",
        "\n",
        "Side note: knowing `numpy` and `pandas` libraries is very helpful."
      ],
      "metadata": {
        "id": "F8Vk7QhopmC-"
      }
    },
    {
      "cell_type": "code",
      "source": [
        "kernel = model.layers[0].weights[0][:,:,0]\n",
        "kernel"
      ],
      "metadata": {
        "colab": {
          "base_uri": "https://localhost:8080/"
        },
        "id": "1hAkbR0Yl22j",
        "outputId": "04ae624e-cd7c-4839-ba8a-aca5241aa159"
      },
      "execution_count": 13,
      "outputs": [
        {
          "output_type": "execute_result",
          "data": {
            "text/plain": [
              "<tf.Tensor: shape=(6, 4), dtype=float32, numpy=\n",
              "array([[-0.19722553, -0.06569018, -0.05074413,  0.1449252 ],\n",
              "       [-0.05400767,  0.03008466,  0.17066227,  0.1806593 ],\n",
              "       [ 0.13233225, -0.24780999, -0.0486766 , -0.08184166],\n",
              "       [ 0.0165442 , -0.2586504 , -0.01629611,  0.02625445],\n",
              "       [ 0.0907452 , -0.01074786, -0.01050037,  0.19432488],\n",
              "       [-0.02163266,  0.04800315, -0.26773295, -0.01770099]],\n",
              "      dtype=float32)>"
            ]
          },
          "metadata": {},
          "execution_count": 13
        }
      ]
    },
    {
      "cell_type": "code",
      "source": [
        "def make_logo(kernel):\n",
        "\n",
        "  if not isinstance(kernel, np.ndarray):\n",
        "      kernel = kernel.numpy()\n",
        "  kernel[kernel < 0] = 0\n",
        "\n",
        "  kernel_df = pd.DataFrame(kernel, columns = ['A', 'T', 'C', 'G'])\n",
        "\n",
        "  # create Logo object\n",
        "  kernel_logo = logomaker.Logo(kernel_df)\n",
        "\n",
        "  # style using Logo methods\n",
        "  kernel_logo.style_spines(visible=False)\n",
        "  kernel_logo.style_spines(spines=['left', 'bottom'], visible=True)"
      ],
      "metadata": {
        "id": "Z1xrGCq9lpDw"
      },
      "execution_count": 28,
      "outputs": []
    },
    {
      "cell_type": "code",
      "source": [
        "make_logo(kernel)"
      ],
      "metadata": {
        "colab": {
          "base_uri": "https://localhost:8080/",
          "height": 253
        },
        "id": "dnfi-zr53_44",
        "outputId": "3d362960-dd25-4ad5-9dcc-386c5730b120"
      },
      "execution_count": 29,
      "outputs": [
        {
          "output_type": "display_data",
          "data": {
            "text/plain": [
              "<Figure size 1000x250 with 1 Axes>"
            ],
            "image/png": "[encoded data removed]"
          },
          "metadata": {}
        }
      ]
    },
    {
      "cell_type": "markdown",
      "source": [
        "# Exercise: Iterate over kernels and plot them\n",
        "\n",
        "`miRNA = 'TATTGCACTTGTCCCGGCCT'`\\\n",
        "`miRNA_rec_compl = 'AGGCCGGGACAAGTGCAATA'`\n",
        "\n",
        "Can you see some interesting kernels?"
      ],
      "metadata": {
        "id": "Q12AbRnt3pLv"
      }
    },
    {
      "cell_type": "code",
      "source": [
        "# TODO"
      ],
      "metadata": {
        "id": "q-Kl7_lHp2Nt"
      },
      "execution_count": 17,
      "outputs": []
    },
    {
      "cell_type": "markdown",
      "source": [
        "# SHAP"
      ],
      "metadata": {
        "id": "UClMRM_HAvZL"
      }
    },
    {
      "cell_type": "markdown",
      "source": [
        "## Deep Explainer"
      ],
      "metadata": {
        "id": "H3CXb24UAwtL"
      }
    },
    {
      "cell_type": "code",
      "source": [
        "explainer = shap.DeepExplainer(model, X_train[:100])\n"
      ],
      "metadata": {
        "colab": {
          "base_uri": "https://localhost:8080/"
        },
        "id": "A9IbNYmvAyXK",
        "outputId": "7ad7d4cf-26c4-4684-c2e8-f148b4257f9e"
      },
      "execution_count": 42,
      "outputs": [
        {
          "output_type": "stream",
          "name": "stderr",
          "text": [
            "/usr/local/lib/python3.10/dist-packages/shap/explainers/_deep/deep_tf.py:99: UserWarning: Your TensorFlow version is newer than 2.4.0 and so graph support has been removed in eager mode and some static graphs may not be supported. See PR #1483 for discussion.\n",
            "  warnings.warn(\"Your TensorFlow version is newer than 2.4.0 and so graph support has been removed in eager mode and some static graphs may not be supported. See PR #1483 for discussion.\")\n"
          ]
        }
      ]
    },
    {
      "cell_type": "code",
      "source": [
        "index = 0\n",
        "\n",
        "shap_values = explainer.shap_values(X_test[index:index + 1])"
      ],
      "metadata": {
        "colab": {
          "base_uri": "https://localhost:8080/"
        },
        "id": "5uCKAw3upm0C",
        "outputId": "7e7d3644-474b-4d12-9c7e-41b4297a6ad9"
      },
      "execution_count": 43,
      "outputs": [
        {
          "output_type": "stream",
          "name": "stderr",
          "text": [
            "/usr/local/lib/python3.10/dist-packages/keras/src/backend.py:452: UserWarning: `tf.keras.backend.set_learning_phase` is deprecated and will be removed after 2020-10-11. To update it, simply pass a True/False value to the `training` argument of the `__call__` method of your layer or model.\n",
            "  warnings.warn(\n"
          ]
        }
      ]
    },
    {
      "cell_type": "code",
      "source": [
        "make_logo(shap_values[0, :, :, 0])"
      ],
      "metadata": {
        "colab": {
          "base_uri": "https://localhost:8080/",
          "height": 253
        },
        "id": "v4zt4he4pjYu",
        "outputId": "eeb902bb-444e-4acb-f6ee-cf04650ff2bc"
      },
      "execution_count": 44,
      "outputs": [
        {
          "output_type": "display_data",
          "data": {
            "text/plain": [
              "<Figure size 1000x250 with 1 Axes>"
            ],
            "image/png": "[encoded data removed]"
          },
          "metadata": {}
        }
      ]
    },
    {
      "cell_type": "code",
      "source": [
        "# project the importance at each position onto the base that's actually present\n",
        "make_logo(shap_values[0, :, :, 0] * X_test[index])"
      ],
      "metadata": {
        "colab": {
          "base_uri": "https://localhost:8080/",
          "height": 253
        },
        "id": "DcZIEe2Zos0l",
        "outputId": "e560494d-a6ca-4d77-b56e-cfa13df7fe74"
      },
      "execution_count": 45,
      "outputs": [
        {
          "output_type": "display_data",
          "data": {
            "text/plain": [
              "<Figure size 1000x250 with 1 Axes>"
            ],
            "image/png": "[encoded data removed]"
          },
          "metadata": {}
        }
      ]
    },
    {
      "cell_type": "markdown",
      "source": [
        "## Exercise: Plot several samples to look for a pattern\n",
        "\n",
        "Reminder:\n",
        "`miRNA = 'TATTGCACTTGTCCCGGCCT'` \\\n",
        "`miRNA_rec_compl = 'AGGCCGGGACAAGTGCAATA'`"
      ],
      "metadata": {
        "id": "50fDlpUTqZqj"
      }
    },
    {
      "cell_type": "code",
      "source": [
        "# TODO"
      ],
      "metadata": {
        "id": "B_lJCwiFqaf9"
      },
      "execution_count": null,
      "outputs": []
    },
    {
      "cell_type": "markdown",
      "source": [
        "## Gradient Explainer\n",
        "\n",
        "In case layers of your neural network are not supported by a Deep Explainer, you can try using Gradient Explainer.\n",
        "\n",
        "Both of these explainers are specifying on Deep Neural Networks."
      ],
      "metadata": {
        "id": "0ZrufMj9qy96"
      }
    },
    {
      "cell_type": "code",
      "source": [
        "explainer = shap.GradientExplainer(model, X_train[:100])"
      ],
      "metadata": {
        "id": "CblMedA9rCVL"
      },
      "execution_count": 46,
      "outputs": []
    },
    {
      "cell_type": "code",
      "source": [
        "index = 0\n",
        "\n",
        "shap_values = explainer.shap_values(X_test[index:index + 1])"
      ],
      "metadata": {
        "colab": {
          "base_uri": "https://localhost:8080/"
        },
        "id": "GqA-TSNYrK4y",
        "outputId": "3497f603-dec7-4063-d07e-a73415de6c91"
      },
      "execution_count": 47,
      "outputs": [
        {
          "output_type": "stream",
          "name": "stderr",
          "text": [
            "/usr/local/lib/python3.10/dist-packages/keras/src/backend.py:452: UserWarning: `tf.keras.backend.set_learning_phase` is deprecated and will be removed after 2020-10-11. To update it, simply pass a True/False value to the `training` argument of the `__call__` method of your layer or model.\n",
            "  warnings.warn(\n"
          ]
        }
      ]
    },
    {
      "cell_type": "code",
      "source": [
        "make_logo(shap_values[0, :, :, 0] * X_test[index])"
      ],
      "metadata": {
        "colab": {
          "base_uri": "https://localhost:8080/",
          "height": 253
        },
        "id": "iBvEYONWrOSq",
        "outputId": "3b8f91f1-780b-4866-dffb-15663defbeac"
      },
      "execution_count": 48,
      "outputs": [
        {
          "output_type": "display_data",
          "data": {
            "text/plain": [
              "<Figure size 1000x250 with 1 Axes>"
            ],
            "image/png": "[encoded data removed]"
          },
          "metadata": {}
        }
      ]
    },
    {
      "cell_type": "markdown",
      "source": [
        "---\n",
        "End of main section. Examples of some more interpretaion techniques follows. But SHAP package is widely used now."
      ],
      "metadata": {
        "id": "bhxP9dC7qeHl"
      }
    },
    {
      "cell_type": "markdown",
      "source": [
        "# Grad-CAM"
      ],
      "metadata": {
        "id": "fOMTwN4EsS6V"
      }
    },
    {
      "cell_type": "code",
      "source": [
        "def make_gradcam_heatmap(img_array, model, last_conv_layer_name, pred_index=None):\n",
        "    # First, we create a model that maps the input image to the activations\n",
        "    # of the last conv layer as well as the output predictions\n",
        "    grad_model = tf.keras.models.Model(\n",
        "        [model.inputs], [model.get_layer(last_conv_layer_name).output, model.output]\n",
        "    )\n",
        "\n",
        "    # Then, we compute the gradient of the top predicted class for our input image\n",
        "    # with respect to the activations of the last conv layer\n",
        "    with tf.GradientTape() as tape:\n",
        "        last_conv_layer_output, preds = grad_model(img_array)\n",
        "        if pred_index is None:\n",
        "            pred_index = tf.argmax(preds[0])\n",
        "        class_channel = preds[:, pred_index]\n",
        "\n",
        "    # This is the gradient of the output neuron (top predicted or chosen)\n",
        "    # with regard to the output feature map of the last conv layer\n",
        "    grads = tape.gradient(class_channel, last_conv_layer_output)\n",
        "\n",
        "    # This is a vector where each entry is the mean intensity of the gradient\n",
        "    # over a specific feature map channel\n",
        "    pooled_grads = tf.reduce_mean(grads, axis=(0, 1, 2))\n",
        "\n",
        "    # We multiply each channel in the feature map array\n",
        "    # by \"how important this channel is\" with regard to the top predicted class\n",
        "    # then sum all the channels to obtain the heatmap class activation\n",
        "    last_conv_layer_output = last_conv_layer_output[0]\n",
        "    # heatmap = last_conv_layer_output @ pooled_grads[..., tf.newaxis]\n",
        "    heatmap = tf.reduce_mean(tf.multiply(pooled_grads, last_conv_layer_output), axis=-1)\n",
        "    heatmap = tf.squeeze(heatmap)\n",
        "\n",
        "    # For visualization purpose, we will also normalize the heatmap between 0 & 1\n",
        "    heatmap = tf.maximum(heatmap, 0) / tf.math.reduce_max(heatmap)\n",
        "    return heatmap.numpy()\n"
      ],
      "metadata": {
        "id": "bIIBvk7g6GeX"
      },
      "execution_count": 20,
      "outputs": []
    },
    {
      "cell_type": "markdown",
      "source": [
        "# Exercise: Get name of last convolutional layer from your model\n",
        "\n",
        "Hint: it is in the output of `model.summary()`\n",
        "\n",
        "Note: when creating a model architecture, you can name your layers."
      ],
      "metadata": {
        "id": "qwPBXJZK-6uM"
      }
    },
    {
      "cell_type": "code",
      "source": [
        "def apply_gradcam(test_sample):\n",
        "  # It is common to name our layers in more complex NNs\n",
        "  # f.e: model.add(Dense(units = 10, name=\"dense_1\"))\n",
        "  last_conv_layer_name = \"conv1d_44\" # <- PUT HERE\n",
        "\n",
        "  sample = tf.reshape(test_sample, [-1,50,4])\n",
        "  preds = model.predict(sample)\n",
        "  print(\"Predicted:\", preds)\n",
        "\n",
        "  # Generate class activation heatmap\n",
        "  heatmap = make_gradcam_heatmap(sample, model, last_conv_layer_name)\n",
        "\n",
        "  print(test_sample.shape)\n",
        "  print(heatmap.shape)\n",
        "\n",
        "  return heatmap"
      ],
      "metadata": {
        "id": "atLA980F6ZN6"
      },
      "execution_count": 71,
      "outputs": []
    },
    {
      "cell_type": "code",
      "source": [
        "def plot_heatmap(heatmap, seq):\n",
        "\n",
        "  chars = [char for char in seq]\n",
        "  df_to_vis = pd.DataFrame(heatmap.reshape((50,1)), chars)\n",
        "\n",
        "  ticks = \"auto\"\n",
        "  fig, ax = plt.subplots(figsize=(25, 2.8))\n",
        "  sb.heatmap(df_to_vis[:50].T, cmap=\"YlOrBr\", annot=False, vmin = 0, vmax = 1, xticklabels=ticks, yticklabels=[], cbar_kws={\"orientation\": \"horizontal\"}, ax=ax)\n",
        "  ax.invert_yaxis()\n",
        "  plt.tight_layout()\n",
        "  plt.show()"
      ],
      "metadata": {
        "id": "xxjtNlG06cau"
      },
      "execution_count": 76,
      "outputs": []
    },
    {
      "cell_type": "code",
      "source": [
        "sample_num = 6\n",
        "ohe_sample = sequence_to_ohe(df[\"gene\"][sample_num:sample_num + 1], 50)\n",
        "label = df['label'].iloc[sample_num]\n",
        "print('Label', label)\n",
        "heatmap = apply_gradcam(ohe_sample)"
      ],
      "metadata": {
        "colab": {
          "base_uri": "https://localhost:8080/"
        },
        "id": "p4DxHplz6e9D",
        "outputId": "5f8c3298-23d5-4092-ae93-9610e5751918"
      },
      "execution_count": 77,
      "outputs": [
        {
          "output_type": "stream",
          "name": "stdout",
          "text": [
            "Label 1\n",
            "1/1 [==============================] - 0s 34ms/step\n",
            "Predicted: [[0.82825494]]\n",
            "(1, 50, 4)\n",
            "(50,)\n"
          ]
        }
      ]
    },
    {
      "cell_type": "code",
      "source": [
        "plot_heatmap(heatmap, df[\"gene\"].iloc[sample_num])"
      ],
      "metadata": {
        "colab": {
          "base_uri": "https://localhost:8080/",
          "height": 180
        },
        "id": "2Gj548d37R4m",
        "outputId": "506eb698-38b7-448b-b2d6-994f61b2dfdb"
      },
      "execution_count": 78,
      "outputs": [
        {
          "output_type": "display_data",
          "data": {
            "text/plain": [
              "<Figure size 2500x280 with 2 Axes>"
            ],
            "image/png": "[encoded data removed]"
          },
          "metadata": {}
        }
      ]
    },
    {
      "cell_type": "markdown",
      "source": [
        "# Exercise: Plot several samples to look for a pattern\n",
        "\n",
        "Reminder:\n",
        "`miRNA = 'TATTGCACTTGTCCCGGCCT'` \\\n",
        "`miRNA_rec_compl = 'AGGCCGGGACAAGTGCAATA'`"
      ],
      "metadata": {
        "id": "OoglNzaFErat"
      }
    },
    {
      "cell_type": "code",
      "source": [
        "# TODO"
      ],
      "metadata": {
        "id": "JYRXoFzag5tm"
      },
      "execution_count": null,
      "outputs": []
    },
    {
      "cell_type": "markdown",
      "source": [
        "# Exercise: Analyze results\n",
        "\n",
        "How would you analyze results from interpretation? Asking for a friend."
      ],
      "metadata": {
        "id": "MZsVcJNmFBQ5"
      }
    },
    {
      "cell_type": "markdown",
      "source": [
        "# Integrated gradients\n",
        "\n",
        "Your model, is a learned function that describes a mapping between your input feature space, and an output space defined by probability value between 0 and 1. Early interpretability methods for neural networks assigned feature importance scores using gradients, which tell you which pixels have the steepest local relative to your model's prediction at a given point along your model's prediction function. However, gradients only describe local changes in your model's prediction function with respect to pixel values and do not fully describe your entire model prediction function. As your model fully \"learns\" the relationship between the range of an individual pixel and the correct class, the gradient for this pixel will saturate, meaning become increasingly small and even go to zero. Consider the simple model function below:"
      ],
      "metadata": {
        "id": "omDF9SQOoBfI"
      }
    },
    {
      "cell_type": "code",
      "source": [
        "def f(x):\n",
        "  \"\"\"A simplified model function.\"\"\"\n",
        "  return tf.where(x < 0.8, x, 0.8)\n",
        "\n",
        "def interpolated_path(x):\n",
        "  \"\"\"A straight line path.\"\"\"\n",
        "  return tf.zeros_like(x)\n",
        "\n",
        "x = tf.linspace(start=0.0, stop=1.0, num=6)\n",
        "y = f(x)\n"
      ],
      "metadata": {
        "id": "q7RFhmxKuW1-"
      },
      "execution_count": 120,
      "outputs": []
    },
    {
      "cell_type": "markdown",
      "source": [
        "\n",
        "\n",
        "- **left**: Your model's gradients for pixel x are positive between 0.0 and 0.8 but go to 0.0 between 0.8 and 1.0. Pixel x clearly has a significant impact on pushing your model toward 80% predicted probability on the true class. Does it make sense that pixel x's importance is small or discontinuous?\n",
        "\n",
        "- **right**: The intuition behind IG is to accumulate pixel x's local gradients and attribute its importance as a score for how much it adds or subtracts to your model's overall output class probability. You can break down and compute IG in 3 parts:\n",
        "  - interpolate small steps along a straight line in the feature space between 0 (a baseline or starting point) and 1 (input pixel's value)\n",
        "  - compute gradients at each step between your model's predictions with respect to each step\n",
        "  - approximate the integral between your baseline and input by accumulating (cumulative average) these local gradients.\n"
      ],
      "metadata": {
        "id": "oSPmhw_iuje4"
      }
    },
    {
      "cell_type": "code",
      "source": [
        "fig = plt.figure(figsize=(12, 5))\n",
        "ax0 = fig.add_subplot(121)\n",
        "ax0.plot(x, f(x), marker='o')\n",
        "ax0.set_title('Gradients saturate over F(x)', fontweight='bold')\n",
        "ax0.text(0.2, 0.5, 'Gradients > 0 = \\n x is important')\n",
        "ax0.text(0.7, 0.85, 'Gradients = 0 \\n x not important')\n",
        "ax0.set_yticks(tf.range(0, 1.5, 0.5))\n",
        "ax0.set_xticks(tf.range(0, 1.5, 0.5))\n",
        "ax0.set_ylabel('F(x) - model true class predicted probability')\n",
        "ax0.set_xlabel('x - (pixel value)')\n",
        "\n",
        "ax1 = fig.add_subplot(122)\n",
        "ax1.plot(x, f(x), marker='o')\n",
        "ax1.plot(x, interpolated_path(x), marker='>')\n",
        "ax1.set_title('IG intuition', fontweight='bold')\n",
        "ax1.text(0.25, 0.1, 'Accumulate gradients along path')\n",
        "ax1.set_ylabel('F(x) - model true class predicted probability')\n",
        "ax1.set_xlabel('x - (pixel value)')\n",
        "ax1.set_yticks(tf.range(0, 1.5, 0.5))\n",
        "ax1.set_xticks(tf.range(0, 1.5, 0.5))\n",
        "ax1.annotate('Baseline', xy=(0.0, 0.0), xytext=(0.0, 0.2),\n",
        "             arrowprops=dict(facecolor='black', shrink=0.1))\n",
        "ax1.annotate('Input', xy=(1.0, 0.0), xytext=(0.95, 0.2),\n",
        "             arrowprops=dict(facecolor='black', shrink=0.1))\n",
        "plt.show();\n"
      ],
      "metadata": {
        "colab": {
          "base_uri": "https://localhost:8080/",
          "height": 487
        },
        "id": "QSeV7ItVuZrv",
        "outputId": "5c6c6f68-eccb-4051-9e1a-3d25228ae9b9"
      },
      "execution_count": 121,
      "outputs": [
        {
          "output_type": "display_data",
          "data": {
            "text/plain": [
              "<Figure size 1200x500 with 2 Axes>"
            ],
            "image/png": "[encoded data removed]"
          },
          "metadata": {}
        }
      ]
    },
    {
      "cell_type": "markdown",
      "source": [
        "## Establish a baseline\n",
        "\n",
        "### Why do we need a baseline?\n",
        "\n",
        "Baseline selection is a fundamental to the process of attribution. No discussion of cause is complete without a comparison. An example motivating the necessity of a baseline is to characterize situations when the absence of a feature can be informative. When compared against a baseline with the feature present would help identify the feature as important. E.g. in a medical diagnostic model, a diagnosis for H. pylori infection might be ruled out based on the absence of elevated IgA or IgG.\n",
        "\n",
        "\n",
        "### How to select a baseline?\n",
        "\n",
        "For images, the simples baseline is a black image. It may also make sense to use a noise image as a baseline and even average the attributions over several different noise baselines.\n",
        "\n",
        "### Sanity Checking Baseline\n",
        "\n",
        "When model treats one of the classes as a 'default' class, we want the baseline to have the default class label. For instance, consider a toxicity model for text that outputs a sigmoid score. The model may be looking for indicators of toxicity in the text and predicting non-toxic only when there no toxicity indicators. The model treats the non-toxic class as the default as there is no positive evidence for non-toxicity. In this case a good baseline may be one that has a sigmoid score of 0.0 (meaning non-toxic) as the model may be using the entire range of the sigmoid output (from 0.0 to 1.0) to indicate confidence of toxicity. On the other hand, a text sentiment model may be more symmetric across the positive and negative classes with there being distinct triggers for either class. For such a model a good baseline would be one with a sigmoid score of 0.5 that is balanced between the two classes.\n",
        "\n",
        "### Binary Classification models may need special treatment\n",
        "\n",
        "Sometimes you have a classification problem with two classes where membership in either class involves the presence of signal. That is, it is not the case that one of the classes is synonymous with absence of signal (no toxicity, no diabetic retinopathy etc.)\n",
        "\n",
        "Ideally, a good baseline should give equal probability to both classes. In our experience, this may not be true.\n",
        "\n",
        "Here, you will use a black image whose pixel values are all zero."
      ],
      "metadata": {
        "id": "RjNDroDIu9U9"
      }
    },
    {
      "cell_type": "code",
      "source": [
        "baseline = tf.zeros(shape=(50,4))"
      ],
      "metadata": {
        "id": "VCHWdnEGvSJD"
      },
      "execution_count": 122,
      "outputs": []
    },
    {
      "cell_type": "code",
      "source": [
        "plt.imshow(baseline, cmap='gray')\n",
        "plt.title(\"Baseline\")\n",
        "plt.axis('off')\n",
        "plt.show()"
      ],
      "metadata": {
        "colab": {
          "base_uri": "https://localhost:8080/",
          "height": 428
        },
        "id": "mj3fEowgvWCP",
        "outputId": "5517bb3c-b2e3-4c89-950c-69949dc321e8"
      },
      "execution_count": 125,
      "outputs": [
        {
          "output_type": "display_data",
          "data": {
            "text/plain": [
              "<Figure size 640x480 with 1 Axes>"
            ],
            "image/png": "[encoded data removed]"
          },
          "metadata": {}
        }
      ]
    },
    {
      "cell_type": "markdown",
      "source": [
        "## Interpolate images\n",
        "\n",
        "First, you will generate a linear interpolation between the baseline and the original image. You can think of interpolated images as small steps in the feature space between your baseline and input."
      ],
      "metadata": {
        "id": "i9RLQnXVv5mi"
      }
    },
    {
      "cell_type": "code",
      "source": [
        "m_steps=50\n",
        "alphas = tf.linspace(start=0.0, stop=1.0, num=m_steps+1)"
      ],
      "metadata": {
        "id": "oEyTXkeyv5Nt"
      },
      "execution_count": 180,
      "outputs": []
    },
    {
      "cell_type": "code",
      "source": [
        "def interpolate_images(baseline,\n",
        "                       image,\n",
        "                       alphas):\n",
        "  delta = image - baseline\n",
        "  interploated_inputs = tf.vectorized_map(lambda x: baseline + delta * x, alphas)\n",
        "  return interploated_inputs"
      ],
      "metadata": {
        "id": "WF0y3fWlwFVS"
      },
      "execution_count": 153,
      "outputs": []
    },
    {
      "cell_type": "code",
      "source": [
        "ohe_sample_tf = tf.convert_to_tensor(ohe_sample, dtype=tf.float32)\n",
        "\n",
        "interpolated_images = interpolate_images(\n",
        "    baseline=baseline,\n",
        "    image=ohe_sample_tf[0, :, :],\n",
        "    alphas=alphas)\n"
      ],
      "metadata": {
        "colab": {
          "base_uri": "https://localhost:8080/"
        },
        "id": "Cu2vg9uuwHt8",
        "outputId": "b7cb542c-44b3-4647-860b-8ea2411da752"
      },
      "execution_count": 181,
      "outputs": [
        {
          "output_type": "stream",
          "name": "stderr",
          "text": [
            "WARNING:tensorflow:6 out of the last 6 calls to <function pfor.<locals>.f at 0x7a4c7d1bba30> triggered tf.function retracing. Tracing is expensive and the excessive number of tracings could be due to (1) creating @tf.function repeatedly in a loop, (2) passing tensors with different shapes, (3) passing Python objects instead of tensors. For (1), please define your @tf.function outside of the loop. For (2), @tf.function has reduce_retracing=True option that can avoid unnecessary retracing. For (3), please refer to https://www.tensorflow.org/guide/function#controlling_retracing and https://www.tensorflow.org/api_docs/python/tf/function for  more details.\n"
          ]
        }
      ]
    },
    {
      "cell_type": "code",
      "source": [
        "fig = plt.figure(figsize=(6, 8))\n",
        "\n",
        "i = 0\n",
        "for alpha, image in zip(alphas[0::10], interpolated_images[0::10]):\n",
        "  i += 1\n",
        "  plt.subplot(1, len(alphas[0::10]), i)\n",
        "  plt.title(f'alpha: {alpha:.1f}')\n",
        "  plt.imshow(image, cmap='gray', vmin=0, vmax=1)\n",
        "  plt.axis('off')\n",
        "\n",
        "plt.tight_layout();\n"
      ],
      "metadata": {
        "colab": {
          "base_uri": "https://localhost:8080/",
          "height": 807
        },
        "id": "nRCp90ThwU4Y",
        "outputId": "13775ac1-65e2-4437-fe67-ce7468c03e9d"
      },
      "execution_count": 182,
      "outputs": [
        {
          "output_type": "display_data",
          "data": {
            "text/plain": [
              "<Figure size 600x800 with 6 Axes>"
            ],
            "image/png": "[encoded data removed]"
          },
          "metadata": {}
        }
      ]
    },
    {
      "cell_type": "code",
      "source": [
        "def compute_gradients(images, model):\n",
        "  with tf.GradientTape() as tape:\n",
        "    tape.watch(images)\n",
        "    probs = model(images)\n",
        "  return tape.gradient(probs, images)\n"
      ],
      "metadata": {
        "id": "w0BBk5fbzb2d"
      },
      "execution_count": 173,
      "outputs": []
    },
    {
      "cell_type": "code",
      "source": [
        "path_gradients = compute_gradients(\n",
        "    images=interpolated_images,\n",
        "    model=model)\n"
      ],
      "metadata": {
        "id": "HuzcTR1czjEI"
      },
      "execution_count": 189,
      "outputs": []
    },
    {
      "cell_type": "code",
      "source": [
        "print(path_gradients.shape)\n"
      ],
      "metadata": {
        "colab": {
          "base_uri": "https://localhost:8080/"
        },
        "id": "SIOoZu43z6Lk",
        "outputId": "daf87c20-6912-4bfd-80e5-7c22a1244d95"
      },
      "execution_count": 190,
      "outputs": [
        {
          "output_type": "stream",
          "name": "stdout",
          "text": [
            "(51, 50, 4)\n"
          ]
        }
      ]
    },
    {
      "cell_type": "code",
      "source": [
        "pred_proba = model(interpolated_images)\n"
      ],
      "metadata": {
        "id": "ETQsJkgcz-7g"
      },
      "execution_count": 191,
      "outputs": []
    },
    {
      "cell_type": "markdown",
      "source": [
        "\n",
        "\n",
        "- **left**: This plot shows how your model's confidence in the \"binding site\" class varies across alphas.\n",
        "\n",
        "- **right**: The right plot shows the average gradients magnitudes over alpha more directly. Your model \"learns\" the most from gradients at lower values of alpha before saturating.\n"
      ],
      "metadata": {
        "id": "jNGeq-er0k4O"
      }
    },
    {
      "cell_type": "code",
      "source": [
        "plt.figure(figsize=(10, 4))\n",
        "ax1 = plt.subplot(1, 2, 1)\n",
        "ax1.plot(alphas, pred_proba)\n",
        "ax1.set_title('Target class predicted probability over alpha')\n",
        "ax1.set_ylabel('model p(target class)')\n",
        "ax1.set_xlabel('alpha')\n",
        "ax1.set_ylim([0, 1])\n",
        "\n",
        "ax2 = plt.subplot(1, 2, 2)\n",
        "# Average across interpolation steps\n",
        "average_grads = tf.reduce_mean(path_gradients, axis=[1, 2])\n",
        "# Normalize gradients to 0 to 1 scale. E.g., (x - min(x))/(max(x)-min(x))\n",
        "average_grads_norm = (average_grads-tf.math.reduce_min(average_grads))/(tf.math.reduce_max(average_grads)-tf.reduce_min(average_grads))\n",
        "ax2.plot(alphas, average_grads_norm)\n",
        "ax2.set_title('Average pixel gradients (normalized) over alpha')\n",
        "ax2.set_ylabel('Average pixel gradients')\n",
        "ax2.set_xlabel('alpha')\n",
        "ax2.set_ylim([0, 1]);\n"
      ],
      "metadata": {
        "colab": {
          "base_uri": "https://localhost:8080/",
          "height": 410
        },
        "id": "r-sN07p10BvU",
        "outputId": "b2ee273f-51af-46e1-b4fc-f2835aca2892"
      },
      "execution_count": 193,
      "outputs": [
        {
          "output_type": "display_data",
          "data": {
            "text/plain": [
              "<Figure size 1000x400 with 2 Axes>"
            ],
            "image/png": "[encoded data removed]"
          },
          "metadata": {}
        }
      ]
    },
    {
      "cell_type": "markdown",
      "source": [
        "## Putting it all together"
      ],
      "metadata": {
        "id": "7YjlYJkc1Kcb"
      }
    },
    {
      "cell_type": "code",
      "source": [
        "# implementation based on https://github.com/mhorlacher/igrads\n",
        "\n",
        "@tf.function\n",
        "def _interpolate_inputs(inputs, baseline, alphas=None, steps=50):\n",
        "    if alphas == None:\n",
        "        alphas = tf.linspace(start=0.0, stop=1.0, num=steps+1)\n",
        "    delta = inputs - baseline\n",
        "    interploated_inputs = tf.vectorized_map(lambda x: baseline + delta * x, alphas)\n",
        "    return interploated_inputs\n",
        "\n",
        "def _apply_fn(fn, inputs):\n",
        "    if isinstance(inputs, tf.Tensor) or isinstance(inputs, np.ndarray):\n",
        "        # if inputs is a tensor or array, apply function directly\n",
        "        return fn(inputs)\n",
        "    elif isinstance(inputs, list):\n",
        "        # if inputs is a list, apply function to each element of inputs\n",
        "        return [fn(x) for x in inputs]\n",
        "    elif isinstance(inputs, dict):\n",
        "        # if inputs is a dict, apply function to each value of inputs (preserve dict)\n",
        "        return {key: fn(value) for key, value in inputs.items()}\n",
        "    else:\n",
        "        raise ValueError('Unsupported type: {}'.format(type(inputs)))\n",
        "\n",
        "def _mask(x, mask):\n",
        "    # apply mask to x (both are either tf.Tensor or np.ndarray)\n",
        "    return tf.math.multiply(x, tf.stop_gradient(mask))\n",
        "\n",
        "def _apply_mask(x, mask):\n",
        "    if isinstance(mask, tf.Tensor) or isinstance(mask, np.ndarray):\n",
        "        # if mask is a tensor, apply it to each element of x\n",
        "        return _apply_fn(lambda y: _mask(y, mask), x)\n",
        "    elif isinstance(mask, list):\n",
        "        # if mask is a list, apply i'th element of mask to i'th element of x\n",
        "        assert isinstance(x, list)\n",
        "        assert len(x) == len(mask)\n",
        "        return [_mask(x[i], mask[i]) for i in range(len(mask))]\n",
        "    elif isinstance(mask, dict):\n",
        "        # if mask is a dict, apply mask[key] to x[key]\n",
        "        assert isinstance(x, dict)\n",
        "        assert len(x) == len(mask)\n",
        "        return {key: _mask(x[key], mask[key]) for key in mask}\n",
        "    else:\n",
        "        raise ValueError('Unsupported type: {}'.format(type(mask)))\n",
        "\n",
        "def _compute_gradients(inputs, model, target_mask=None, postproc_fn=None):\n",
        "    with tf.GradientTape(persistent=True) as tape:\n",
        "        # watch gradients of inputs\n",
        "        tape.watch(inputs)\n",
        "\n",
        "        # run model predictions on inputs\n",
        "        pred = model(inputs)\n",
        "\n",
        "        if postproc_fn is not None:\n",
        "            # optional: apply post-processing function (e.g. softmax on predicted logits)\n",
        "            pred = _apply_fn(postproc_fn, pred)\n",
        "\n",
        "        if target_mask is not None:\n",
        "            # optional: apply mask, e.g. one-hot for classification\n",
        "            pred = _apply_mask(pred, target_mask)\n",
        "\n",
        "        # reduce_sum for each batch\n",
        "        pred_sum = _apply_fn(lambda x: tf.reduce_sum(x, axis=tf.range(1, tf.rank(x))), pred)\n",
        "\n",
        "    return _apply_fn(lambda x: tape.gradient(x, inputs), pred_sum)\n",
        "\n",
        "def compute_gradients(model, images):\n",
        "  with tf.GradientTape() as tape:\n",
        "    tape.watch(images)\n",
        "    probs = model(images)\n",
        "    #probs = tf.nn.softmax(logits, axis=-1)[:, target_class_idx]\n",
        "    #probs = preds[:, target_class_idx]\n",
        "  return tape.gradient(probs, images)\n",
        "\n",
        "#@tf.function\n",
        "def _integral_approximation(gradients):\n",
        "    # trapezoidal\n",
        "    grads = _apply_fn(lambda x: (x[:-1] + x[1:]) / tf.constant(2.0), gradients)\n",
        "    integrated_gradients = _apply_fn(lambda x: tf.math.reduce_mean(x, axis=0), grads)\n",
        "    return integrated_gradients\n",
        "\n",
        "#@tf.function\n",
        "def integrated_gradients(inputs, model, target_mask=None, postproc_fn=None, baseline=None, alphas=None, steps=50):\n",
        "  # define zero baseline if no other baseline is specified\n",
        "  if baseline is None:\n",
        "    baseline = tf.zeros(tf.shape(inputs))\n",
        "\n",
        "  # create interpolatioted inputs between inputs and baseline\n",
        "  interpolated_inputs = _interpolate_inputs(inputs, baseline, alphas, steps)\n",
        "\n",
        "  # compute gradients for interpolated inputs\n",
        "  grads = _compute_gradients(interpolated_inputs, model, target_mask, postproc_fn)\n",
        "\n",
        "  # approximate the gradients integral\n",
        "  integrated_grads = _integral_approximation(grads)\n",
        "\n",
        "  # scale integrated gradients with respect to input.\n",
        "  integrated_grads = _apply_fn(lambda x: (inputs - baseline) * x, integrated_grads)\n",
        "\n",
        "  return integrated_grads"
      ],
      "metadata": {
        "id": "j6SLJ2RboO0l"
      },
      "execution_count": 163,
      "outputs": []
    },
    {
      "cell_type": "code",
      "source": [
        "m_steps = 200\n",
        "\n",
        "baseline = tf.zeros(shape=(50,4), dtype=tf.float32)\n",
        "alphas = tf.linspace(start=0.0, stop=1.0, num=m_steps+1)\n",
        "attributions_black = integrated_gradients(tf.convert_to_tensor(ohe_sample[0, :, :], dtype=tf.float32), model, baseline=baseline,).numpy()"
      ],
      "metadata": {
        "id": "k4NMaW-EoT8P"
      },
      "execution_count": 169,
      "outputs": []
    },
    {
      "cell_type": "code",
      "source": [
        "plt.imshow(attributions_black)"
      ],
      "metadata": {
        "colab": {
          "base_uri": "https://localhost:8080/",
          "height": 449
        },
        "id": "4RP_kHcwru35",
        "outputId": "b3204e4a-d19c-4f92-a49d-da543437fea0"
      },
      "execution_count": 170,
      "outputs": [
        {
          "output_type": "execute_result",
          "data": {
            "text/plain": [
              "<matplotlib.image.AxesImage at 0x7a4c7ce52ad0>"
            ]
          },
          "metadata": {},
          "execution_count": 170
        },
        {
          "output_type": "display_data",
          "data": {
            "text/plain": [
              "<Figure size 640x480 with 1 Axes>"
            ],
            "image/png": "[encoded data removed]"
          },
          "metadata": {}
        }
      ]
    },
    {
      "cell_type": "code",
      "source": [
        "make_logo(attributions_black * tf.convert_to_tensor(ohe_sample[0, :, :], dtype=tf.float32))"
      ],
      "metadata": {
        "colab": {
          "base_uri": "https://localhost:8080/",
          "height": 253
        },
        "id": "G2lXRpRtsaie",
        "outputId": "59b70fd4-4b6e-476a-a285-579de19a5032"
      },
      "execution_count": 172,
      "outputs": [
        {
          "output_type": "display_data",
          "data": {
            "text/plain": [
              "<Figure size 1000x250 with 1 Axes>"
            ],
            "image/png": "[encoded data removed]"
          },
          "metadata": {}
        }
      ]
    }
  ]
}