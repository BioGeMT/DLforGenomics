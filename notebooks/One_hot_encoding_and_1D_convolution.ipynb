{
  "nbformat": 4,
  "nbformat_minor": 0,
  "metadata": {
    "colab": {
      "provenance": [],
      "toc_visible": true,
      "authorship_tag": "ABX9TyNpINrEmV47/WS+b7/EUIRO",
      "include_colab_link": true
    },
    "kernelspec": {
      "name": "python3",
      "display_name": "Python 3"
    },
    "language_info": {
      "name": "python"
    }
  },
  "cells": [
    {
      "cell_type": "markdown",
      "metadata": {
        "id": "view-in-github",
        "colab_type": "text"
      },
      "source": [
        "<a href=\"https://colab.research.google.com/github/BioGeMT/DLforGenomics/blob/main/notebooks/One_hot_encoding_and_1D_convolution.ipynb\" target=\"_parent\"><img src=\"https://colab.research.google.com/assets/colab-badge.svg\" alt=\"Open In Colab\"/></a>"
      ]
    },
    {
      "cell_type": "markdown",
      "source": [
        "# Introduction\n",
        "\n",
        "In this notebook, we will go over two main concepts - one-hot encoding of data and 1D convolutional neural network. We will try this concept on an example of classifying DNA sequences, if they contain binding site of a particular miRNA, or not. We will go over steps of data prepareation, model preparation, model training and model evaluation."
      ],
      "metadata": {
        "id": "17790oGcFpGl"
      }
    },
    {
      "cell_type": "markdown",
      "source": [
        "# One-Hot Encoding in Neural Networks\n",
        "\n",
        "## Introduction\n",
        "\n",
        "In the world of machine learning and neural networks, we encounter two primary types of data:\n",
        "- numerical, and\n",
        "- categorical.\n",
        "\n",
        "Numerical data, such as age or salary, inherently possesses mathematical meaning, while categorical data, like eye color or country, represents distinct groups or categories. To effectively use categorical data in neural networks, we often need to transform it into a numerical format, as neural networks inherently process numerical data. One common and effective transformation technique is one-hot encoding.\n",
        "\n",
        "## Why Transform Categorical Data?\n",
        "### Categorical Data and Neural Networks\n",
        "\n",
        "Categorical data does not have a natural order or inherent numeric relationship. For instance, consider the categories 'cat', 'dog', and 'bird'. There is no numeric or ordinal relationship between these categories that a neural network can inherently understand. Therefore, we need to convert these categories into a format that allows the neural network to interpret and process them.\n",
        "\n",
        "## Why Simple Enumeration is Not Enough\n",
        "### Issues with Enumeration\n",
        "\n",
        "A straightforward method might be to assign each category a unique integer (e.g., 'cat' = 1, 'dog' = 2, 'bird' = 3). However, this method is problematic for several reasons:\n",
        "\n",
        "1. **Implicit Ordinal Relationship:** Assigning integers implies an ordinal relationship that doesn't exist (i.e., the network might infer that 'dog' is greater than 'cat').\n",
        "2. **Distance Misinterpretation:** The network may misinterpret the numerical differences as meaningful distances (e.g., it might think 'bird' is closer to 'dog' than 'cat').\n",
        "\n",
        "## One-Hot Encoding to the Rescue\n",
        "\n",
        "One-hot encoding resolves these issues by creating a binary vector for each category. Each category is represented by a vector where one element is '1' (indicating the presence of that category) and all other elements are '0'.\n",
        "\n",
        "### Example: One-Hot Encoding\n",
        "\n",
        "Consider a categorical variable with three categories: 'cat', 'dog', and 'bird'. Using one-hot encoding, we represent these categories as:\n",
        "\n",
        "    'cat' -> [1, 0, 0]\n",
        "    'dog' -> [0, 1, 0]\n",
        "    'bird' -> [0, 0, 1]\n",
        "\n",
        "This method ensures that each category is equidistant from the others and that there is no implicit order.\n",
        "\n",
        "### Example: One-Hot Encoding in Genomic Data\n",
        "\n",
        "Genomic data, such as DNA or RNA sequences, consists of categorical variables representing nucleotides. DNA sequences, for example, are composed of four nucleotides: Adenine (A), Cytosine (C), Guanine (G), and Thymine (T). RNA sequences replace Thymine with Uracil (U).\n",
        "\n",
        "Using one-hot encoding, we represent each nucleotide as a binary vector:\n",
        "```\n",
        "'A' -> [1, 0, 0, 0]\n",
        "'C' -> [0, 1, 0, 0]\n",
        "'G' -> [0, 0, 1, 0]\n",
        "'T' -> [0, 0, 0, 1]\n",
        "```\n",
        "If we want to include Unknown nucleotide (N), we have to options:\n",
        "- we can enlarge our alphabet and encode every nucleotide using 5 position:\n",
        "```\n",
        "'A' -> [1, 0, 0, 0, 0]\n",
        "'C' -> [0, 1, 0, 0, 0]\n",
        "'G' -> [0, 0, 1, 0, 0]\n",
        "'T' -> [0, 0, 0, 1, 0]\n",
        "'N' -> [0, 0, 0, 0, 1]\n",
        "```\n",
        "- or we can encode it as lack of infomation, using all-zero vector:\n",
        "```\n",
        "'A' -> [1, 0, 0, 0]\n",
        "'C' -> [0, 1, 0, 0]\n",
        "'G' -> [0, 0, 1, 0]\n",
        "'T' -> [0, 0, 0, 1]\n",
        "'N' -> [0, 0, 0, 0]\n",
        "```\n",
        "\n",
        "### Benefits of One-Hot Encoding in Neural Networks\n",
        "\n",
        "1. **No Implicit Ordering:** Each category is treated equally without any implied order.\n",
        "2. **Binary Representation:** The binary nature simplifies the network's learning process, as the presence or absence of a category is straightforward.\n",
        "3. **Avoids Misinterpretation:** Prevents the network from misinterpreting categorical relationships as numeric distances.\n",
        "\n",
        "## Conclusion\n",
        "\n",
        "One-hot encoding is a crucial preprocessing step in preparing categorical data for neural networks. By converting categories into binary vectors, we preserve the categorical nature of the data and enable the neural network to process and learn from it effectively. This technique is especially useful in fields like genomics, where sequences of nucleotides can be efficiently encoded for computational analysis."
      ],
      "metadata": {
        "id": "PcWbmN1w5En6"
      }
    },
    {
      "cell_type": "markdown",
      "source": [
        "# Setup"
      ],
      "metadata": {
        "id": "dr54Hv3i25pr"
      }
    },
    {
      "cell_type": "markdown",
      "source": [
        "## Imports"
      ],
      "metadata": {
        "id": "sd0snAZo28Ta"
      }
    },
    {
      "cell_type": "code",
      "source": [
        "from tensorflow import keras as K\n",
        "import tensorflow as tf\n",
        "import numpy as np\n",
        "import pandas as pd\n",
        "import matplotlib.pyplot as plt\n",
        "from sklearn.model_selection import train_test_split\n",
        "from sklearn.metrics import accuracy_score, auc, precision_recall_curve, classification_report"
      ],
      "metadata": {
        "id": "gQd0XEXI2Jmh"
      },
      "execution_count": 1,
      "outputs": []
    },
    {
      "cell_type": "markdown",
      "source": [
        "## Downloads"
      ],
      "metadata": {
        "id": "LURljNoK2-wd"
      }
    },
    {
      "cell_type": "code",
      "source": [
        "!wget https://raw.githubusercontent.com/BioGeMT/DLforGenomics/main/data/Helwak_2013/one_miRNA/miRNA_train_set.tsv -O miRNA_train_set.tsv"
      ],
      "metadata": {
        "colab": {
          "base_uri": "https://localhost:8080/"
        },
        "id": "nZdeP2xO3Msd",
        "outputId": "4db70e88-846f-46d3-a7bc-d7a11ecbddfd"
      },
      "execution_count": 2,
      "outputs": [
        {
          "output_type": "stream",
          "name": "stdout",
          "text": [
            "--2024-06-03 12:40:20--  https://raw.githubusercontent.com/BioGeMT/DLforGenomics/main/data/Helwak_2013/one_miRNA/miRNA_train_set.tsv\n",
            "Resolving raw.githubusercontent.com (raw.githubusercontent.com)... 185.199.108.133, 185.199.109.133, 185.199.110.133, ...\n",
            "Connecting to raw.githubusercontent.com (raw.githubusercontent.com)|185.199.108.133|:443... connected.\n",
            "HTTP request sent, awaiting response... 200 OK\n",
            "Length: 101082 (99K) [text/plain]\n",
            "Saving to: ‘miRNA_train_set.tsv’\n",
            "\n",
            "miRNA_train_set.tsv 100%[===================>]  98.71K  --.-KB/s    in 0.01s   \n",
            "\n",
            "2024-06-03 12:40:20 (7.16 MB/s) - ‘miRNA_train_set.tsv’ saved [101082/101082]\n",
            "\n"
          ]
        }
      ]
    },
    {
      "cell_type": "markdown",
      "source": [
        "# Data preparation"
      ],
      "metadata": {
        "id": "8RPj_E8r7wJd"
      }
    },
    {
      "cell_type": "code",
      "source": [
        "df = pd.read_csv('miRNA_train_set.tsv', sep='\\t')\n",
        "df"
      ],
      "metadata": {
        "colab": {
          "base_uri": "https://localhost:8080/",
          "height": 424
        },
        "id": "r5TPEQqG3P0z",
        "outputId": "f2309ad9-0f37-4333-9b24-7439524c7707"
      },
      "execution_count": 3,
      "outputs": [
        {
          "output_type": "execute_result",
          "data": {
            "text/plain": [
              "                                                   gene  label\n",
              "0     AGCACTGCCGCCGGGGACTGCTCAGCAACCACACCGGCAGCCCGCG...      1\n",
              "1     CTTCTCGGAGACGGTGCGCATCATCAACCGCAAGGTGAAGCCGCGG...      1\n",
              "2     GGGCTGGGCAAAGAATGTGCAAAAGTCTTCTATGCTGCGGGTGCTA...      1\n",
              "3     TCCACTAGAAGGCTGGGACAGCACCGGTGATTACTGTCTTTCCTGC...      1\n",
              "4     AGTTCACAGGCTTTGTGGACATGTGTGTGCAGCATATCCCTTCTCC...      1\n",
              "...                                                 ...    ...\n",
              "1902  TCTAAGCCATCCAGTGCCATCCTCGTCGCTGCAGCGACACACGCTC...      0\n",
              "1903  AACCACGTCTCCTACTTTCCAAACCCATGGCAGTGTCCCTGCTCCA...      0\n",
              "1904  ATTGAAGCCTGCCCATCCTCCCATGAGAGACTCTTGTTAGTCAACA...      0\n",
              "1905  GCCAGCCCTACACTCGCCCGCGCCATGGCCTCTGTCTCCGAGCTCG...      0\n",
              "1906  AGGGATTTTTGGGGAGCAAGGGTAGCCAATGGCAGAGGGGGTTGGG...      0\n",
              "\n",
              "[1907 rows x 2 columns]"
            ],
            "text/html": [
              "\n",
              "  <div id=\"df-37f90d72-0414-4fc5-8820-fd8023451693\" class=\"colab-df-container\">\n",
              "    <div>\n",
              "<style scoped>\n",
              "    .dataframe tbody tr th:only-of-type {\n",
              "        vertical-align: middle;\n",
              "    }\n",
              "\n",
              "    .dataframe tbody tr th {\n",
              "        vertical-align: top;\n",
              "    }\n",
              "\n",
              "    .dataframe thead th {\n",
              "        text-align: right;\n",
              "    }\n",
              "</style>\n",
              "<table border=\"1\" class=\"dataframe\">\n",
              "  <thead>\n",
              "    <tr style=\"text-align: right;\">\n",
              "      <th></th>\n",
              "      <th>gene</th>\n",
              "      <th>label</th>\n",
              "    </tr>\n",
              "  </thead>\n",
              "  <tbody>\n",
              "    <tr>\n",
              "      <th>0</th>\n",
              "      <td>AGCACTGCCGCCGGGGACTGCTCAGCAACCACACCGGCAGCCCGCG...</td>\n",
              "      <td>1</td>\n",
              "    </tr>\n",
              "    <tr>\n",
              "      <th>1</th>\n",
              "      <td>CTTCTCGGAGACGGTGCGCATCATCAACCGCAAGGTGAAGCCGCGG...</td>\n",
              "      <td>1</td>\n",
              "    </tr>\n",
              "    <tr>\n",
              "      <th>2</th>\n",
              "      <td>GGGCTGGGCAAAGAATGTGCAAAAGTCTTCTATGCTGCGGGTGCTA...</td>\n",
              "      <td>1</td>\n",
              "    </tr>\n",
              "    <tr>\n",
              "      <th>3</th>\n",
              "      <td>TCCACTAGAAGGCTGGGACAGCACCGGTGATTACTGTCTTTCCTGC...</td>\n",
              "      <td>1</td>\n",
              "    </tr>\n",
              "    <tr>\n",
              "      <th>4</th>\n",
              "      <td>AGTTCACAGGCTTTGTGGACATGTGTGTGCAGCATATCCCTTCTCC...</td>\n",
              "      <td>1</td>\n",
              "    </tr>\n",
              "    <tr>\n",
              "      <th>...</th>\n",
              "      <td>...</td>\n",
              "      <td>...</td>\n",
              "    </tr>\n",
              "    <tr>\n",
              "      <th>1902</th>\n",
              "      <td>TCTAAGCCATCCAGTGCCATCCTCGTCGCTGCAGCGACACACGCTC...</td>\n",
              "      <td>0</td>\n",
              "    </tr>\n",
              "    <tr>\n",
              "      <th>1903</th>\n",
              "      <td>AACCACGTCTCCTACTTTCCAAACCCATGGCAGTGTCCCTGCTCCA...</td>\n",
              "      <td>0</td>\n",
              "    </tr>\n",
              "    <tr>\n",
              "      <th>1904</th>\n",
              "      <td>ATTGAAGCCTGCCCATCCTCCCATGAGAGACTCTTGTTAGTCAACA...</td>\n",
              "      <td>0</td>\n",
              "    </tr>\n",
              "    <tr>\n",
              "      <th>1905</th>\n",
              "      <td>GCCAGCCCTACACTCGCCCGCGCCATGGCCTCTGTCTCCGAGCTCG...</td>\n",
              "      <td>0</td>\n",
              "    </tr>\n",
              "    <tr>\n",
              "      <th>1906</th>\n",
              "      <td>AGGGATTTTTGGGGAGCAAGGGTAGCCAATGGCAGAGGGGGTTGGG...</td>\n",
              "      <td>0</td>\n",
              "    </tr>\n",
              "  </tbody>\n",
              "</table>\n",
              "<p>1907 rows × 2 columns</p>\n",
              "</div>\n",
              "    <div class=\"colab-df-buttons\">\n",
              "\n",
              "  <div class=\"colab-df-container\">\n",
              "    <button class=\"colab-df-convert\" onclick=\"convertToInteractive('df-37f90d72-0414-4fc5-8820-fd8023451693')\"\n",
              "            title=\"Convert this dataframe to an interactive table.\"\n",
              "            style=\"display:none;\">\n",
              "\n",
              "  <svg xmlns=\"http://www.w3.org/2000/svg\" height=\"24px\" viewBox=\"0 -960 960 960\">\n",
              "    <path d=\"M120-120v-720h720v720H120Zm60-500h600v-160H180v160Zm220 220h160v-160H400v160Zm0 220h160v-160H400v160ZM180-400h160v-160H180v160Zm440 0h160v-160H620v160ZM180-180h160v-160H180v160Zm440 0h160v-160H620v160Z\"/>\n",
              "  </svg>\n",
              "    </button>\n",
              "\n",
              "  <style>\n",
              "    .colab-df-container {\n",
              "      display:flex;\n",
              "      gap: 12px;\n",
              "    }\n",
              "\n",
              "    .colab-df-convert {\n",
              "      background-color: #E8F0FE;\n",
              "      border: none;\n",
              "      border-radius: 50%;\n",
              "      cursor: pointer;\n",
              "      display: none;\n",
              "      fill: #1967D2;\n",
              "      height: 32px;\n",
              "      padding: 0 0 0 0;\n",
              "      width: 32px;\n",
              "    }\n",
              "\n",
              "    .colab-df-convert:hover {\n",
              "      background-color: #E2EBFA;\n",
              "      box-shadow: 0px 1px 2px rgba(60, 64, 67, 0.3), 0px 1px 3px 1px rgba(60, 64, 67, 0.15);\n",
              "      fill: #174EA6;\n",
              "    }\n",
              "\n",
              "    .colab-df-buttons div {\n",
              "      margin-bottom: 4px;\n",
              "    }\n",
              "\n",
              "    [theme=dark] .colab-df-convert {\n",
              "      background-color: #3B4455;\n",
              "      fill: #D2E3FC;\n",
              "    }\n",
              "\n",
              "    [theme=dark] .colab-df-convert:hover {\n",
              "      background-color: #434B5C;\n",
              "      box-shadow: 0px 1px 3px 1px rgba(0, 0, 0, 0.15);\n",
              "      filter: drop-shadow(0px 1px 2px rgba(0, 0, 0, 0.3));\n",
              "      fill: #FFFFFF;\n",
              "    }\n",
              "  </style>\n",
              "\n",
              "    <script>\n",
              "      const buttonEl =\n",
              "        document.querySelector('#df-37f90d72-0414-4fc5-8820-fd8023451693 button.colab-df-convert');\n",
              "      buttonEl.style.display =\n",
              "        google.colab.kernel.accessAllowed ? 'block' : 'none';\n",
              "\n",
              "      async function convertToInteractive(key) {\n",
              "        const element = document.querySelector('#df-37f90d72-0414-4fc5-8820-fd8023451693');\n",
              "        const dataTable =\n",
              "          await google.colab.kernel.invokeFunction('convertToInteractive',\n",
              "                                                    [key], {});\n",
              "        if (!dataTable) return;\n",
              "\n",
              "        const docLinkHtml = 'Like what you see? Visit the ' +\n",
              "          '<a target=\"_blank\" href=https://colab.research.google.com/notebooks/data_table.ipynb>data table notebook</a>'\n",
              "          + ' to learn more about interactive tables.';\n",
              "        element.innerHTML = '';\n",
              "        dataTable['output_type'] = 'display_data';\n",
              "        await google.colab.output.renderOutput(dataTable, element);\n",
              "        const docLink = document.createElement('div');\n",
              "        docLink.innerHTML = docLinkHtml;\n",
              "        element.appendChild(docLink);\n",
              "      }\n",
              "    </script>\n",
              "  </div>\n",
              "\n",
              "\n",
              "<div id=\"df-31c51424-b1b9-411a-9697-7e361f06c953\">\n",
              "  <button class=\"colab-df-quickchart\" onclick=\"quickchart('df-31c51424-b1b9-411a-9697-7e361f06c953')\"\n",
              "            title=\"Suggest charts\"\n",
              "            style=\"display:none;\">\n",
              "\n",
              "<svg xmlns=\"http://www.w3.org/2000/svg\" height=\"24px\"viewBox=\"0 0 24 24\"\n",
              "     width=\"24px\">\n",
              "    <g>\n",
              "        <path d=\"M19 3H5c-1.1 0-2 .9-2 2v14c0 1.1.9 2 2 2h14c1.1 0 2-.9 2-2V5c0-1.1-.9-2-2-2zM9 17H7v-7h2v7zm4 0h-2V7h2v10zm4 0h-2v-4h2v4z\"/>\n",
              "    </g>\n",
              "</svg>\n",
              "  </button>\n",
              "\n",
              "<style>\n",
              "  .colab-df-quickchart {\n",
              "      --bg-color: #E8F0FE;\n",
              "      --fill-color: #1967D2;\n",
              "      --hover-bg-color: #E2EBFA;\n",
              "      --hover-fill-color: #174EA6;\n",
              "      --disabled-fill-color: #AAA;\n",
              "      --disabled-bg-color: #DDD;\n",
              "  }\n",
              "\n",
              "  [theme=dark] .colab-df-quickchart {\n",
              "      --bg-color: #3B4455;\n",
              "      --fill-color: #D2E3FC;\n",
              "      --hover-bg-color: #434B5C;\n",
              "      --hover-fill-color: #FFFFFF;\n",
              "      --disabled-bg-color: #3B4455;\n",
              "      --disabled-fill-color: #666;\n",
              "  }\n",
              "\n",
              "  .colab-df-quickchart {\n",
              "    background-color: var(--bg-color);\n",
              "    border: none;\n",
              "    border-radius: 50%;\n",
              "    cursor: pointer;\n",
              "    display: none;\n",
              "    fill: var(--fill-color);\n",
              "    height: 32px;\n",
              "    padding: 0;\n",
              "    width: 32px;\n",
              "  }\n",
              "\n",
              "  .colab-df-quickchart:hover {\n",
              "    background-color: var(--hover-bg-color);\n",
              "    box-shadow: 0 1px 2px rgba(60, 64, 67, 0.3), 0 1px 3px 1px rgba(60, 64, 67, 0.15);\n",
              "    fill: var(--button-hover-fill-color);\n",
              "  }\n",
              "\n",
              "  .colab-df-quickchart-complete:disabled,\n",
              "  .colab-df-quickchart-complete:disabled:hover {\n",
              "    background-color: var(--disabled-bg-color);\n",
              "    fill: var(--disabled-fill-color);\n",
              "    box-shadow: none;\n",
              "  }\n",
              "\n",
              "  .colab-df-spinner {\n",
              "    border: 2px solid var(--fill-color);\n",
              "    border-color: transparent;\n",
              "    border-bottom-color: var(--fill-color);\n",
              "    animation:\n",
              "      spin 1s steps(1) infinite;\n",
              "  }\n",
              "\n",
              "  @keyframes spin {\n",
              "    0% {\n",
              "      border-color: transparent;\n",
              "      border-bottom-color: var(--fill-color);\n",
              "      border-left-color: var(--fill-color);\n",
              "    }\n",
              "    20% {\n",
              "      border-color: transparent;\n",
              "      border-left-color: var(--fill-color);\n",
              "      border-top-color: var(--fill-color);\n",
              "    }\n",
              "    30% {\n",
              "      border-color: transparent;\n",
              "      border-left-color: var(--fill-color);\n",
              "      border-top-color: var(--fill-color);\n",
              "      border-right-color: var(--fill-color);\n",
              "    }\n",
              "    40% {\n",
              "      border-color: transparent;\n",
              "      border-right-color: var(--fill-color);\n",
              "      border-top-color: var(--fill-color);\n",
              "    }\n",
              "    60% {\n",
              "      border-color: transparent;\n",
              "      border-right-color: var(--fill-color);\n",
              "    }\n",
              "    80% {\n",
              "      border-color: transparent;\n",
              "      border-right-color: var(--fill-color);\n",
              "      border-bottom-color: var(--fill-color);\n",
              "    }\n",
              "    90% {\n",
              "      border-color: transparent;\n",
              "      border-bottom-color: var(--fill-color);\n",
              "    }\n",
              "  }\n",
              "</style>\n",
              "\n",
              "  <script>\n",
              "    async function quickchart(key) {\n",
              "      const quickchartButtonEl =\n",
              "        document.querySelector('#' + key + ' button');\n",
              "      quickchartButtonEl.disabled = true;  // To prevent multiple clicks.\n",
              "      quickchartButtonEl.classList.add('colab-df-spinner');\n",
              "      try {\n",
              "        const charts = await google.colab.kernel.invokeFunction(\n",
              "            'suggestCharts', [key], {});\n",
              "      } catch (error) {\n",
              "        console.error('Error during call to suggestCharts:', error);\n",
              "      }\n",
              "      quickchartButtonEl.classList.remove('colab-df-spinner');\n",
              "      quickchartButtonEl.classList.add('colab-df-quickchart-complete');\n",
              "    }\n",
              "    (() => {\n",
              "      let quickchartButtonEl =\n",
              "        document.querySelector('#df-31c51424-b1b9-411a-9697-7e361f06c953 button');\n",
              "      quickchartButtonEl.style.display =\n",
              "        google.colab.kernel.accessAllowed ? 'block' : 'none';\n",
              "    })();\n",
              "  </script>\n",
              "</div>\n",
              "    </div>\n",
              "  </div>\n"
            ],
            "application/vnd.google.colaboratory.intrinsic+json": {
              "type": "dataframe",
              "variable_name": "df",
              "summary": "{\n  \"name\": \"df\",\n  \"rows\": 1907,\n  \"fields\": [\n    {\n      \"column\": \"gene\",\n      \"properties\": {\n        \"dtype\": \"string\",\n        \"num_unique_values\": 1907,\n        \"samples\": [\n          \"TGCCCCAACTAAATACTACCGTATGGCCCACCATAATTACCCCCATACTC\",\n          \"GTGTGGGGACGGTGCTGGCCAGCAGACCGCACACGCTAGATGGCCGAAAC\",\n          \"GCCACTGAACTCCAACCTGGGCGACAGAGACTCTGTCTCAAAAAAAAAGA\"\n        ],\n        \"semantic_type\": \"\",\n        \"description\": \"\"\n      }\n    },\n    {\n      \"column\": \"label\",\n      \"properties\": {\n        \"dtype\": \"number\",\n        \"std\": 0,\n        \"min\": 0,\n        \"max\": 1,\n        \"num_unique_values\": 2,\n        \"samples\": [\n          0,\n          1\n        ],\n        \"semantic_type\": \"\",\n        \"description\": \"\"\n      }\n    }\n  ]\n}"
            }
          },
          "metadata": {},
          "execution_count": 3
        }
      ]
    },
    {
      "cell_type": "code",
      "source": [
        "def sequence_to_ohe(\n",
        "        dataset,\n",
        "        sequence_size,\n",
        "        channel={\n",
        "            'A': 0,\n",
        "            'T': 1,\n",
        "            'C': 2,\n",
        "            'G': 3\n",
        "        }\n",
        "):\n",
        "    \"\"\"\n",
        "    fun builds the one hot encoding numpy array of each\n",
        "    sample sequence.\n",
        "\n",
        "    paramenters:\n",
        "    dataset = dataset of sequences to encode\n",
        "    sequence_size = can corresponds to the\n",
        "    length of the input sequences\n",
        "    (if all the same) or an arbitrary number can be defined.\n",
        "    channel = the coding of nucleotides.\n",
        "\n",
        "    \"\"\"\n",
        "\n",
        "    # further processing is expecting list of sequences\n",
        "    if isinstance(dataset, str):\n",
        "        dataset = [dataset]\n",
        "\n",
        "    samples_size = len(dataset)\n",
        "\n",
        "    # structure, where we will hold one-hot encoded dataset\n",
        "    # it is pre-filled with zeros\n",
        "    # we will put 1s in positions of nucleotides\n",
        "    ohe_dataset = np.zeros((samples_size, sequence_size, len(set(channel.values()))))\n",
        "\n",
        "    for index, sequence in enumerate(dataset):\n",
        "        for pos, nucleotide in enumerate(sequence):\n",
        "            if nucleotide == 'N':\n",
        "                continue\n",
        "            ohe_dataset[index, pos, channel[nucleotide]] = 1\n",
        "\n",
        "    return ohe_dataset"
      ],
      "metadata": {
        "id": "G8GZV3rw46G7"
      },
      "execution_count": 4,
      "outputs": []
    },
    {
      "cell_type": "code",
      "source": [
        "seq = df['gene'][:1][0]\n",
        "seq_ohe = sequence_to_ohe(seq, 50)"
      ],
      "metadata": {
        "id": "1b0mRdIP6Jrc"
      },
      "execution_count": 5,
      "outputs": []
    },
    {
      "cell_type": "code",
      "source": [
        "def plot_ohe(seq, seq_ohe):\n",
        "    fig, ax = plt.subplots(1,1, figsize=(10, 10))\n",
        "    ax.imshow(seq_ohe[0, :], cmap='gray')\n",
        "    ax.set_yticks(range(len(seq)))\n",
        "    ax.set_yticklabels(seq)\n",
        "    ax.set_xticks([])\n",
        "    ax.set_xticklabels([])\n",
        "    plt.plot();\n",
        "\n",
        "plot_ohe(seq, seq_ohe)"
      ],
      "metadata": {
        "colab": {
          "base_uri": "https://localhost:8080/",
          "height": 807
        },
        "id": "uG6YCdHJ5Y5q",
        "outputId": "082f34d3-f73d-4a83-c189-c60740ac70f6"
      },
      "execution_count": 11,
      "outputs": [
        {
          "output_type": "display_data",
          "data": {
            "text/plain": [
              "<Figure size 1000x1000 with 1 Axes>"
            ],
            "image/png": "[encoded data removed]"
          },
          "metadata": {}
        }
      ]
    },
    {
      "cell_type": "code",
      "source": [
        "def encode_dataset_ohe(df, seq_col, label_col):\n",
        "\n",
        "    # do not forget to shuffle your data so every batch will contain both positive and negative samples\n",
        "    df = df.sample(frac=1, random_state=42)\n",
        "    df.reset_index(inplace=True, drop=True)\n",
        "\n",
        "    max_length = df[seq_col].map(len).max()\n",
        "    ohe_samples = sequence_to_ohe(df[seq_col], max_length)\n",
        "    labels = df[label_col]\n",
        "\n",
        "    if ohe_samples.shape[0] != labels.shape[0]:\n",
        "        print('sequence and label shapes are different, something went wrong...')\n",
        "\n",
        "    print(\n",
        "        'samples',\n",
        "        ohe_samples.shape,\n",
        "        '\\nlabels',\n",
        "        labels.shape\n",
        "    )\n",
        "\n",
        "    return ohe_samples, labels"
      ],
      "metadata": {
        "id": "agHwp0mA-t9v"
      },
      "execution_count": 35,
      "outputs": []
    },
    {
      "cell_type": "code",
      "source": [
        "samples_ohe, labels = encode_dataset_ohe(df, \"gene\", \"label\")"
      ],
      "metadata": {
        "colab": {
          "base_uri": "https://localhost:8080/"
        },
        "id": "afVZ405K6e6a",
        "outputId": "03836a20-2f7e-4d54-fa3c-ff27edf7536c"
      },
      "execution_count": 36,
      "outputs": [
        {
          "output_type": "stream",
          "name": "stdout",
          "text": [
            "samples (1907, 50, 4) \n",
            "labels (1907,)\n"
          ]
        }
      ]
    },
    {
      "cell_type": "code",
      "source": [
        "X_train, X_test, y_train, y_test = train_test_split(\n",
        "        samples_ohe, labels, test_size=0.2, random_state=42)\n",
        "\n",
        "print(\"X_train:\", X_train.shape)\n",
        "print(\"y_train:\", y_train.shape)\n",
        "print(\"X_test:\", X_test.shape)\n",
        "print(\"y_test:\", y_test.shape)"
      ],
      "metadata": {
        "colab": {
          "base_uri": "https://localhost:8080/"
        },
        "id": "6Pe8cju0J-Jr",
        "outputId": "e8b4b62e-c1a5-4b2b-e6c7-2aa985099e07"
      },
      "execution_count": 37,
      "outputs": [
        {
          "output_type": "stream",
          "name": "stdout",
          "text": [
            "X_train: (1525, 50, 4)\n",
            "y_train: (1525,)\n",
            "X_test: (382, 50, 4)\n",
            "y_test: (382,)\n"
          ]
        }
      ]
    },
    {
      "cell_type": "markdown",
      "source": [
        "# Convolution\n",
        "\n",
        "We know that input data for our machine learning models use vectors. How can we represent image data as vectors? If we were to flatten a two-dimensional image into a single stream of numbers such that we could capture it as a vector, we lose some key relationships between the pixels, such as the distance between pixels representing the same object. In this case, we need to use a convolution.\n",
        "\n",
        "A convolution combines information about local pixels such that pixels close to each other in an image are ”summarized” by a smaller set of pixels. This ”summarization” is done by ”sliding” a kernel across an image to output a final product for each position of the kernel.\n",
        "\n",
        "![](https://courses.cs.washington.edu/courses/cse446/21au/sections/08/correlation.png)\n",
        "\n",
        "![](https://miro.medium.com/v2/resize:fit:1280/0*LCLFmo82CFaAAvC_.gif)\n",
        "\n",
        "Special kernels which have specific properties such as maintaining the same image, applying a box blur, sharpening the image, and detecting edges.\n",
        "\n",
        "![](https://miro.medium.com/v2/resize:fit:1206/0*czWUfPtxU3CTg3SN.png)"
      ],
      "metadata": {
        "id": "tzC5pX6pMtCV"
      }
    },
    {
      "cell_type": "markdown",
      "source": [
        "# 1D Convolution\n",
        "\n",
        "In 1D convolution, kernel slides in one dimension. This can be useful for processing data that have one dimension, such as time series, audio, text or genomic sequences.\n",
        "\n",
        "![](https://i.imgur.com/5UQz1zI.jpg)"
      ],
      "metadata": {
        "id": "6TSr38zM7Mqc"
      }
    },
    {
      "cell_type": "markdown",
      "source": [
        "# Exercise: convolution to look for a ACT motif"
      ],
      "metadata": {
        "id": "2mBdbLm4G1ZG"
      }
    },
    {
      "cell_type": "code",
      "source": [
        "seq_ohe[0][0:3]"
      ],
      "metadata": {
        "colab": {
          "base_uri": "https://localhost:8080/"
        },
        "id": "mJiRoW-GIQBu",
        "outputId": "4a3f9632-d3ca-4897-b73f-79001813c4d4"
      },
      "execution_count": 21,
      "outputs": [
        {
          "output_type": "execute_result",
          "data": {
            "text/plain": [
              "array([[1., 0., 0., 0.],\n",
              "       [0., 0., 0., 1.],\n",
              "       [0., 0., 1., 0.]])"
            ]
          },
          "metadata": {},
          "execution_count": 21
        }
      ]
    },
    {
      "cell_type": "code",
      "source": [
        "# define ACT kernel\n",
        "# 'A': 0,\n",
        "# 'T': 1,\n",
        "# 'C': 2,\n",
        "# 'G': 3\n",
        "\n",
        "# act_kernel = [\n",
        "#     [?, ?, ?, ?],\n",
        "#     [?, ?, ?, ?],\n",
        "#     [?, ?, ?, ?]\n",
        "# ]\n",
        "\n",
        "def convolution(seq_ohe, kernel):\n",
        "\n",
        "  features = []\n",
        "  for index in range(seq_ohe.shape[1] - len(kernel) + 1):\n",
        "    features.append(\n",
        "        np.sum(np.multiply(seq_ohe[0][index:index + len(kernel)], kernel))\n",
        "    )\n",
        "\n",
        "  return features\n"
      ],
      "metadata": {
        "id": "oPYbYNpuG-Vr"
      },
      "execution_count": 26,
      "outputs": []
    },
    {
      "cell_type": "code",
      "source": [
        "features = convolution(seq_ohe, act_kernel)\n",
        "\n",
        "fig, ax = plt.subplots()\n",
        "ax.plot(features)\n",
        "ax.set_xticks(range(len(seq[1:-1])))\n",
        "ax.set_xticklabels(seq[1:-1])\n",
        "plt.show();"
      ],
      "metadata": {
        "colab": {
          "base_uri": "https://localhost:8080/",
          "height": 430
        },
        "id": "z2jnEb0LJHIo",
        "outputId": "206884ea-b1a7-416c-cab4-ea5823581042"
      },
      "execution_count": 32,
      "outputs": [
        {
          "output_type": "display_data",
          "data": {
            "text/plain": [
              "<Figure size 640x480 with 1 Axes>"
            ],
            "image/png": "[encoded data removed]"
          },
          "metadata": {}
        }
      ]
    },
    {
      "cell_type": "markdown",
      "source": [
        "# Model preparation\n",
        "\n",
        "Building the neural network requires configuring the layers of the model, then compiling the model.\n",
        "\n",
        "The basic building block of a neural network is the layer. Layers extract representations from the data fed into them. Hopefully, these representations are meaningful for the problem at hand.\n",
        "\n",
        "Most of deep learning consists of chaining together simple layers. Most layers, such as `tf.keras.layers.Conv1D` or `tf.keras.layers.Dense`, have parameters that are learned during training."
      ],
      "metadata": {
        "id": "DTnbZlDjA_lI"
      }
    },
    {
      "cell_type": "code",
      "execution_count": 33,
      "metadata": {
        "id": "PRtykT0p2bp-"
      },
      "outputs": [],
      "source": [
        "def get_model(\n",
        "    sequence_size, channel,\n",
        "    filters = 10,\n",
        "    kernel_size = 6,\n",
        "    strides = 1,\n",
        "    dense_neurons = 10):\n",
        "\n",
        "  model = tf.keras.Sequential([\n",
        "    # first layer of 1D convolution\n",
        "    tf.keras.layers.Conv1D(\n",
        "      filters=filters, # the dimension of the output space (the number of filters in the convolution)\n",
        "      kernel_size=kernel_size, # specifying the size of the convolution window\n",
        "      strides=strides, # specifying the stride length of the convolution\n",
        "      padding='same',\n",
        "      data_format=\"channels_last\",\n",
        "      activation='relu', # activation function\n",
        "      input_shape=(sequence_size, channel)\n",
        "    ),\n",
        "\n",
        "    # second layer of 1D convolution\n",
        "    tf.keras.layers.Conv1D(\n",
        "      filters=filters,\n",
        "      kernel_size=kernel_size,\n",
        "      strides=strides,\n",
        "      padding='same',\n",
        "      data_format=\"channels_last\",\n",
        "      activation='relu'\n",
        "    ),\n",
        "\n",
        "    # flatten layer to get 1D output\n",
        "    tf.keras.layers.Flatten(),\n",
        "\n",
        "    # dense layer\n",
        "    tf.keras.layers.Dense(dense_neurons, activation=\"relu\"),\n",
        "\n",
        "    # output neuron producing prediction in the range <0, 1>\n",
        "    tf.keras.layers.Dense(1, activation='sigmoid')\n",
        "  ])\n",
        "\n",
        "  return model"
      ]
    },
    {
      "cell_type": "markdown",
      "source": [
        "The first layer in this network, `tf.keras.layers.Conv1D`, scans the input using 10 convolutional kernels of size (by default). Weight of kernels are used during training.\n",
        "\n",
        "The second layer does the same, but on the output of the first layer. This allows for learning progresively more complicated patterns in deeper layers.\n",
        "\n",
        "Example of features learned by kernels in the CNN trained on images:\n",
        "![](https://twopointseven.github.io/images/features.png)\n",
        "\n",
        "The third layer in this network, `tf.keras.layers.Flatten`, transforms the format of data from two-dimensional array (50 by 10) to a one-dimensional array (of 500). This layer has no parameters to learn; it only reformats the data.\n",
        "\n",
        "After the pixels are flattened, the network consists of a sequence of two `tf.keras.layers.Dense` layers. These are densely connected, or fully connected, neural layers. The first Dense layer has 10 nodes (or neurons). The second (and last) layer returns one number in the range `<0, 1>` representing a probability of positive class."
      ],
      "metadata": {
        "id": "m4t_YmUVRUiq"
      }
    },
    {
      "cell_type": "code",
      "source": [
        "model = get_model(sequence_size = X_train.shape[1], channel = X_train.shape[2])\n",
        "model.summary()"
      ],
      "metadata": {
        "colab": {
          "base_uri": "https://localhost:8080/"
        },
        "id": "AnYYtO7j8MJn",
        "outputId": "5f4cb4a7-9678-4e96-9ad1-1856900ff787"
      },
      "execution_count": 38,
      "outputs": [
        {
          "output_type": "stream",
          "name": "stdout",
          "text": [
            "Model: \"sequential\"\n",
            "_________________________________________________________________\n",
            " Layer (type)                Output Shape              Param #   \n",
            "=================================================================\n",
            " conv1d (Conv1D)             (None, 50, 10)            250       \n",
            "                                                                 \n",
            " conv1d_1 (Conv1D)           (None, 50, 10)            610       \n",
            "                                                                 \n",
            " flatten (Flatten)           (None, 500)               0         \n",
            "                                                                 \n",
            " dense (Dense)               (None, 10)                5010      \n",
            "                                                                 \n",
            " dense_1 (Dense)             (None, 1)                 11        \n",
            "                                                                 \n",
            "=================================================================\n",
            "Total params: 5881 (22.97 KB)\n",
            "Trainable params: 5881 (22.97 KB)\n",
            "Non-trainable params: 0 (0.00 Byte)\n",
            "_________________________________________________________________\n"
          ]
        }
      ]
    },
    {
      "cell_type": "markdown",
      "source": [
        "Before the model is ready for training, it needs a few more settings. These are added during the model's compile step:\n",
        "\n",
        "  - **Optimizer** - This is how the model is updated based on the data it sees and its loss function.\n",
        "  - **Loss function** - This measures how accurate the model is during training. You want to minimize this function to \"steer\" the model in the right direction.\n",
        "  - **Metrics** - Used to monitor the training and testing steps. The following example uses accuracy, the fraction of the images that are correctly classified.\n"
      ],
      "metadata": {
        "id": "JGL1m6SaRbvv"
      }
    },
    {
      "cell_type": "code",
      "source": [
        "def compile_model(\n",
        "      model,\n",
        "      learning_rate = 0.001):\n",
        "\n",
        "    optimizer = K.optimizers.Adam(learning_rate=learning_rate, beta_1=0.9, beta_2=0.999, amsgrad=False)\n",
        "\n",
        "    model.compile(\n",
        "        optimizer=optimizer,\n",
        "        loss='binary_crossentropy',\n",
        "        metrics=['accuracy']\n",
        "    )\n",
        "\n",
        "    return model"
      ],
      "metadata": {
        "id": "XJkZyTK39DFV"
      },
      "execution_count": 39,
      "outputs": []
    },
    {
      "cell_type": "code",
      "source": [
        "model = compile_model(model)"
      ],
      "metadata": {
        "id": "BtXc15ws9F6e"
      },
      "execution_count": 40,
      "outputs": []
    },
    {
      "cell_type": "markdown",
      "source": [
        "# Model training\n",
        "\n",
        "To start training, call the `model.fit` method—so called because it \"fits\" the model to the training data."
      ],
      "metadata": {
        "id": "ucbjc8mzBENY"
      }
    },
    {
      "cell_type": "code",
      "source": [
        "history = model.fit(\n",
        "    X_train,\n",
        "    y_train,\n",
        "    batch_size=32,\n",
        "    epochs=15,\n",
        "    validation_split=0.2\n",
        ")"
      ],
      "metadata": {
        "colab": {
          "base_uri": "https://localhost:8080/"
        },
        "id": "r6WjkwDQ9XGC",
        "outputId": "04909fdd-6edc-46dd-ea85-3719b27dc1ff"
      },
      "execution_count": 41,
      "outputs": [
        {
          "output_type": "stream",
          "name": "stdout",
          "text": [
            "Epoch 1/15\n",
            "39/39 [==============================] - 2s 13ms/step - loss: 0.6906 - accuracy: 0.5352 - val_loss: 0.6854 - val_accuracy: 0.5508\n",
            "Epoch 2/15\n",
            "39/39 [==============================] - 0s 8ms/step - loss: 0.6635 - accuracy: 0.6393 - val_loss: 0.6639 - val_accuracy: 0.5967\n",
            "Epoch 3/15\n",
            "39/39 [==============================] - 0s 7ms/step - loss: 0.6191 - accuracy: 0.6697 - val_loss: 0.6395 - val_accuracy: 0.6623\n",
            "Epoch 4/15\n",
            "39/39 [==============================] - 0s 7ms/step - loss: 0.5814 - accuracy: 0.7016 - val_loss: 0.6314 - val_accuracy: 0.6393\n",
            "Epoch 5/15\n",
            "39/39 [==============================] - 0s 8ms/step - loss: 0.5559 - accuracy: 0.7131 - val_loss: 0.6194 - val_accuracy: 0.6721\n",
            "Epoch 6/15\n",
            "39/39 [==============================] - 0s 7ms/step - loss: 0.5346 - accuracy: 0.7213 - val_loss: 0.6087 - val_accuracy: 0.7016\n",
            "Epoch 7/15\n",
            "39/39 [==============================] - 0s 7ms/step - loss: 0.5214 - accuracy: 0.7377 - val_loss: 0.6092 - val_accuracy: 0.6754\n",
            "Epoch 8/15\n",
            "39/39 [==============================] - 0s 8ms/step - loss: 0.4975 - accuracy: 0.7516 - val_loss: 0.5954 - val_accuracy: 0.6885\n",
            "Epoch 9/15\n",
            "39/39 [==============================] - 0s 8ms/step - loss: 0.4756 - accuracy: 0.7770 - val_loss: 0.6301 - val_accuracy: 0.6459\n",
            "Epoch 10/15\n",
            "39/39 [==============================] - 0s 9ms/step - loss: 0.4533 - accuracy: 0.7861 - val_loss: 0.5721 - val_accuracy: 0.7115\n",
            "Epoch 11/15\n",
            "39/39 [==============================] - 0s 7ms/step - loss: 0.4284 - accuracy: 0.8041 - val_loss: 0.5622 - val_accuracy: 0.7311\n",
            "Epoch 12/15\n",
            "39/39 [==============================] - 0s 4ms/step - loss: 0.4053 - accuracy: 0.8221 - val_loss: 0.5547 - val_accuracy: 0.7475\n",
            "Epoch 13/15\n",
            "39/39 [==============================] - 0s 6ms/step - loss: 0.3899 - accuracy: 0.8213 - val_loss: 0.5531 - val_accuracy: 0.7475\n",
            "Epoch 14/15\n",
            "39/39 [==============================] - 0s 5ms/step - loss: 0.3667 - accuracy: 0.8492 - val_loss: 0.5573 - val_accuracy: 0.7541\n",
            "Epoch 15/15\n",
            "39/39 [==============================] - 0s 5ms/step - loss: 0.3536 - accuracy: 0.8492 - val_loss: 0.5536 - val_accuracy: 0.7541\n"
          ]
        }
      ]
    },
    {
      "cell_type": "markdown",
      "source": [
        "As the model trains, the loss and accuracy metrics are displayed.\n",
        "\n",
        "We are also collecting them in the `history` variable that we can use for plotting the progress if training."
      ],
      "metadata": {
        "id": "MIm3QdbGVWmh"
      }
    },
    {
      "cell_type": "code",
      "source": [
        "def plot_history(history):\n",
        "    \"\"\"\n",
        "    fun plots history of the training of the model,\n",
        "    accuracy and loss of the training and validation set\n",
        "\n",
        "    \"\"\"\n",
        "    acc = history.history['accuracy']\n",
        "    val_acc = history.history['val_accuracy']\n",
        "    loss = history.history['loss']\n",
        "    val_loss = history.history['val_loss']\n",
        "\n",
        "    epochs = range(1, len(acc) + 1)\n",
        "\n",
        "    fig, axes = plt.subplots(nrows=1, ncols=2, figsize=(12, 4))\n",
        "\n",
        "    axes[0].plot(epochs, acc)\n",
        "    axes[0].plot(epochs, val_acc)\n",
        "    axes[0].set_title('Accuracy')\n",
        "\n",
        "    axes[1].plot(epochs, loss, label='Training')\n",
        "    axes[1].plot(epochs, val_loss, label='Validation')\n",
        "    axes[1].set_title('Loss')\n",
        "\n",
        "    fig.legend(loc='center right', bbox_to_anchor=(1.1, 0.5))\n",
        "    fig.tight_layout()\n",
        "\n",
        "    plt.show()"
      ],
      "metadata": {
        "id": "72Mv7oTf9v-I"
      },
      "execution_count": 42,
      "outputs": []
    },
    {
      "cell_type": "code",
      "source": [
        "plot_history(history)"
      ],
      "metadata": {
        "colab": {
          "base_uri": "https://localhost:8080/",
          "height": 407
        },
        "id": "c-oOP4mO9yvm",
        "outputId": "6e8a3aef-aaad-40b9-d78d-6b10de5e1997"
      },
      "execution_count": 43,
      "outputs": [
        {
          "output_type": "display_data",
          "data": {
            "text/plain": [
              "<Figure size 1200x400 with 2 Axes>"
            ],
            "image/png": "[encoded data removed]"
          },
          "metadata": {}
        }
      ]
    },
    {
      "cell_type": "markdown",
      "source": [
        "# Model evaluation"
      ],
      "metadata": {
        "id": "fZIeI82UBHhu"
      }
    },
    {
      "cell_type": "code",
      "source": [
        "probs = model.predict(X_test)"
      ],
      "metadata": {
        "colab": {
          "base_uri": "https://localhost:8080/"
        },
        "id": "sbtw4sNjBJnE",
        "outputId": "3d284630-ef58-44bc-aab7-fea7b013f420"
      },
      "execution_count": 44,
      "outputs": [
        {
          "output_type": "stream",
          "name": "stdout",
          "text": [
            "12/12 [==============================] - 0s 2ms/step\n"
          ]
        }
      ]
    },
    {
      "cell_type": "code",
      "source": [
        "probs[:10]"
      ],
      "metadata": {
        "colab": {
          "base_uri": "https://localhost:8080/"
        },
        "id": "iMrqAh3xBW_o",
        "outputId": "806298d8-d983-4c8d-b7de-4eaf280c53f2"
      },
      "execution_count": 45,
      "outputs": [
        {
          "output_type": "execute_result",
          "data": {
            "text/plain": [
              "array([[0.97485554],\n",
              "       [0.9817871 ],\n",
              "       [0.86357665],\n",
              "       [0.2642725 ],\n",
              "       [0.5789562 ],\n",
              "       [0.15340306],\n",
              "       [0.34604138],\n",
              "       [0.44238108],\n",
              "       [0.04589703],\n",
              "       [0.7570009 ]], dtype=float32)"
            ]
          },
          "metadata": {},
          "execution_count": 45
        }
      ]
    },
    {
      "cell_type": "code",
      "source": [
        "preds = [0 if prob < 0.5 else 1 for prob in probs]\n",
        "preds[:10]"
      ],
      "metadata": {
        "colab": {
          "base_uri": "https://localhost:8080/"
        },
        "id": "rm2snV02Fn4l",
        "outputId": "d7ef9b1c-26cd-4542-de8d-9f749cf42f33"
      },
      "execution_count": 46,
      "outputs": [
        {
          "output_type": "execute_result",
          "data": {
            "text/plain": [
              "[1, 1, 1, 0, 1, 0, 0, 0, 0, 1]"
            ]
          },
          "metadata": {},
          "execution_count": 46
        }
      ]
    },
    {
      "cell_type": "code",
      "source": [
        "accuracy = accuracy_score(y_test, preds)\n",
        "report = classification_report(y_test, preds)\n",
        "\n",
        "print(f'Accuracy: {accuracy}')\n",
        "print('Classification Report:')\n",
        "print(report)"
      ],
      "metadata": {
        "colab": {
          "base_uri": "https://localhost:8080/"
        },
        "id": "RXtBFWwE8mB2",
        "outputId": "29c64f5a-78c6-4e10-a471-bccdfb823518"
      },
      "execution_count": 47,
      "outputs": [
        {
          "output_type": "stream",
          "name": "stdout",
          "text": [
            "Accuracy: 0.693717277486911\n",
            "Classification Report:\n",
            "              precision    recall  f1-score   support\n",
            "\n",
            "           0       0.75      0.64      0.69       205\n",
            "           1       0.64      0.76      0.70       177\n",
            "\n",
            "    accuracy                           0.69       382\n",
            "   macro avg       0.70      0.70      0.69       382\n",
            "weighted avg       0.70      0.69      0.69       382\n",
            "\n"
          ]
        }
      ]
    },
    {
      "cell_type": "code",
      "source": [
        "def draw_precision_recall_curve(probs, labels):\n",
        "    precision, recall, thresholds = precision_recall_curve(labels, preds)\n",
        "    plt.plot(recall, precision, label='CNN model')\n",
        "    plt.xlabel('Recall')\n",
        "    plt.ylabel('Precision')\n",
        "    plt.legend(loc=\"lower center\")\n",
        "    plt.title('Precision recall curve')\n",
        "    auc_precision_recall = auc(recall, precision)\n",
        "    print(\"AUC-PR:\", auc_precision_recall)\n",
        "    plt.show()"
      ],
      "metadata": {
        "id": "QvDhaJ7eBgq7"
      },
      "execution_count": 48,
      "outputs": []
    },
    {
      "cell_type": "code",
      "source": [
        "draw_precision_recall_curve(probs, y_test)"
      ],
      "metadata": {
        "colab": {
          "base_uri": "https://localhost:8080/",
          "height": 489
        },
        "id": "TZoLX5y3B5uf",
        "outputId": "14f3baf4-d83b-48fb-91e7-c79812149c5e"
      },
      "execution_count": 49,
      "outputs": [
        {
          "output_type": "stream",
          "name": "stdout",
          "text": [
            "AUC-PR: 0.7569291805748013\n"
          ]
        },
        {
          "output_type": "display_data",
          "data": {
            "text/plain": [
              "<Figure size 640x480 with 1 Axes>"
            ],
            "image/png": "[encoded data removed]"
          },
          "metadata": {}
        }
      ]
    },
    {
      "cell_type": "markdown",
      "source": [
        "# Excercise: Manual hyper-parameter tuning\n",
        "\n",
        "We were able to achieve accuracy above randon on a test set, but there seems to be a space for improvement.\n",
        "\n",
        "A big part of ML/DL model development is hyper-parameter tuning. TensorFlow contains multiple way how to help with that. You can start by looking at [Introduction to the Keras Tuner](https://www.tensorflow.org/tutorials/keras/keras_tuner) or [Automated hyper-parameter tuning](https://www.tensorflow.org/decision_forests/tutorials/automatic_tuning_colab) tutorials.\n",
        "\n",
        "But to get an initial idea what might works better and what worse, it can be an good idea to try few iterations of manual hyper-parameter tuning. You will choose values of hyper-parameters and you will observe how it changes model's performance.\n",
        "\n",
        "In our code, there are several hyper-parameters and they are located in the following functions:\n",
        "\n",
        "```python\n",
        "model = get_model(...\n",
        "model = compile_model(...\n",
        "history = model.fit(...\n",
        "```\n",
        "\n",
        "Try several different combinations of hyper-parameters and observe changes in the model's performance.\n",
        "\n",
        "## Bonus:\n",
        "\n",
        "If you want, you can even try changing architecture of the model by changing it inside of a `get_model()` function. You can start by playing with adding/removing `Conv1D`, `Dense` and `Dropout` layers.\n",
        "For the overview of all available layers, have a look at [TensorFlow tf.keras.layers documentation](https://www.tensorflow.org/api_docs/python/tf/keras/layers)."
      ],
      "metadata": {
        "id": "Db5Vwv7qADoj"
      }
    },
    {
      "cell_type": "code",
      "source": [],
      "metadata": {
        "id": "bCJMY37z9z8u"
      },
      "execution_count": 22,
      "outputs": []
    }
  ]
}